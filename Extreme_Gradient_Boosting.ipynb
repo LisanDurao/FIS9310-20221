{
 "cells": [
  {
   "cell_type": "markdown",
   "metadata": {
    "collapsed": true,
    "pycharm": {
     "name": "#%% md\n"
    }
   },
   "source": [
    "# Extreme Gradient Boosting"
   ]
  },
  {
   "cell_type": "code",
   "execution_count": 2,
   "metadata": {
    "pycharm": {
     "name": "#%%\n"
    }
   },
   "outputs": [],
   "source": [
    "import pandas as pd\n",
    "import numpy as np\n",
    "from sklearn import datasets\n",
    "iris = datasets.load_iris()"
   ]
  },
  {
   "cell_type": "code",
   "execution_count": 3,
   "metadata": {
    "pycharm": {
     "name": "#%%\n"
    }
   },
   "outputs": [],
   "source": [
    "df = pd.DataFrame(data= np.c_[iris['data'], iris['target']],columns= iris['feature_names'] + ['target'])"
   ]
  },
  {
   "cell_type": "code",
   "execution_count": 4,
   "metadata": {
    "pycharm": {
     "name": "#%%\n"
    }
   },
   "outputs": [
    {
     "data": {
      "text/html": [
       "<div>\n",
       "<style scoped>\n",
       "    .dataframe tbody tr th:only-of-type {\n",
       "        vertical-align: middle;\n",
       "    }\n",
       "\n",
       "    .dataframe tbody tr th {\n",
       "        vertical-align: top;\n",
       "    }\n",
       "\n",
       "    .dataframe thead th {\n",
       "        text-align: right;\n",
       "    }\n",
       "</style>\n",
       "<table border=\"1\" class=\"dataframe\">\n",
       "  <thead>\n",
       "    <tr style=\"text-align: right;\">\n",
       "      <th></th>\n",
       "      <th>sepal length (cm)</th>\n",
       "      <th>sepal width (cm)</th>\n",
       "      <th>petal length (cm)</th>\n",
       "      <th>petal width (cm)</th>\n",
       "      <th>target</th>\n",
       "    </tr>\n",
       "  </thead>\n",
       "  <tbody>\n",
       "    <tr>\n",
       "      <th>0</th>\n",
       "      <td>5.1</td>\n",
       "      <td>3.5</td>\n",
       "      <td>1.4</td>\n",
       "      <td>0.2</td>\n",
       "      <td>0.0</td>\n",
       "    </tr>\n",
       "    <tr>\n",
       "      <th>1</th>\n",
       "      <td>4.9</td>\n",
       "      <td>3.0</td>\n",
       "      <td>1.4</td>\n",
       "      <td>0.2</td>\n",
       "      <td>0.0</td>\n",
       "    </tr>\n",
       "    <tr>\n",
       "      <th>2</th>\n",
       "      <td>4.7</td>\n",
       "      <td>3.2</td>\n",
       "      <td>1.3</td>\n",
       "      <td>0.2</td>\n",
       "      <td>0.0</td>\n",
       "    </tr>\n",
       "    <tr>\n",
       "      <th>3</th>\n",
       "      <td>4.6</td>\n",
       "      <td>3.1</td>\n",
       "      <td>1.5</td>\n",
       "      <td>0.2</td>\n",
       "      <td>0.0</td>\n",
       "    </tr>\n",
       "    <tr>\n",
       "      <th>4</th>\n",
       "      <td>5.0</td>\n",
       "      <td>3.6</td>\n",
       "      <td>1.4</td>\n",
       "      <td>0.2</td>\n",
       "      <td>0.0</td>\n",
       "    </tr>\n",
       "  </tbody>\n",
       "</table>\n",
       "</div>"
      ],
      "text/plain": [
       "   sepal length (cm)  sepal width (cm)  petal length (cm)  petal width (cm)  \\\n",
       "0                5.1               3.5                1.4               0.2   \n",
       "1                4.9               3.0                1.4               0.2   \n",
       "2                4.7               3.2                1.3               0.2   \n",
       "3                4.6               3.1                1.5               0.2   \n",
       "4                5.0               3.6                1.4               0.2   \n",
       "\n",
       "   target  \n",
       "0     0.0  \n",
       "1     0.0  \n",
       "2     0.0  \n",
       "3     0.0  \n",
       "4     0.0  "
      ]
     },
     "execution_count": 4,
     "metadata": {},
     "output_type": "execute_result"
    }
   ],
   "source": [
    "df.head()"
   ]
  },
  {
   "cell_type": "code",
   "execution_count": 13,
   "metadata": {},
   "outputs": [
    {
     "data": {
      "text/plain": [
       "array([0., 1., 2.])"
      ]
     },
     "execution_count": 13,
     "metadata": {},
     "output_type": "execute_result"
    }
   ],
   "source": [
    "df['target'].unique()"
   ]
  },
  {
   "cell_type": "code",
   "execution_count": 1,
   "metadata": {},
   "outputs": [],
   "source": [
    "#pip install xgboost"
   ]
  },
  {
   "cell_type": "code",
   "execution_count": 5,
   "metadata": {
    "pycharm": {
     "name": "#%%\n"
    }
   },
   "outputs": [],
   "source": [
    "from xgboost import XGBClassifier\n",
    "from sklearn.model_selection import train_test_split\n",
    "from sklearn.metrics import accuracy_score"
   ]
  },
  {
   "cell_type": "code",
   "execution_count": 6,
   "metadata": {
    "pycharm": {
     "name": "#%%\n"
    }
   },
   "outputs": [],
   "source": [
    "# Split data into train and test sets\n",
    "X_train, X_test, y_train, y_test = train_test_split(iris['data'], iris['target'], random_state=2)"
   ]
  },
  {
   "cell_type": "code",
   "execution_count": 8,
   "metadata": {
    "pycharm": {
     "name": "#%%\n"
    }
   },
   "outputs": [
    {
     "name": "stderr",
     "output_type": "stream",
     "text": [
      "C:\\Users\\Pichau\\anaconda3\\lib\\site-packages\\xgboost\\sklearn.py:1146: UserWarning: The use of label encoder in XGBClassifier is deprecated and will be removed in a future release. To remove this warning, do the following: 1) Pass option use_label_encoder=False when constructing XGBClassifier object; and 2) Encode your labels (y) as integers starting with 0, i.e. 0, 1, 2, ..., [num_class - 1].\n",
      "  warnings.warn(label_encoder_deprecation_msg, UserWarning)\n"
     ]
    },
    {
     "name": "stdout",
     "output_type": "stream",
     "text": [
      "[11:11:17] WARNING: C:/Users/Administrator/workspace/xgboost-win64_release_1.4.0/src/learner.cc:1095: Starting in XGBoost 1.3.0, the default evaluation metric used with the objective 'multi:softprob' was changed from 'merror' to 'mlogloss'. Explicitly set eval_metric if you'd like to restore the old behavior.\n",
      "Score: 0.9736842105263158\n"
     ]
    }
   ],
   "source": [
    "xgb = XGBClassifier(booster='gbtree', objective='multi:softprob', max_depth=6,\n",
    "                    learning_rate=0.1, n_estimators=100, random_state=2, n_jobs=-1)\n",
    "xgb.fit(X_train, y_train)\n",
    "y_pred = xgb.predict(X_test)\n",
    "score = accuracy_score(y_pred, y_test)\n",
    "print('Score: ' + str(score))"
   ]
  },
  {
   "cell_type": "markdown",
   "metadata": {
    "pycharm": {
     "name": "#%% md\n"
    }
   },
   "source": [
    "Brief description of the preceding hyperparameter are as follow:\n",
    "\n",
    "* booster = 'gbtree': The booster is the base learner. The machine learning model that is constructed during every round of boosting. The default learner is a gradient boosted tree, however it is possible to work with other base learners.\n",
    "* objective = 'multi:softprob': Chooses the objective function to be optimized.\n",
    "* max_depth: Depth of the base tree\n",
    "* learning_rate\n",
    "* n_estimator"
   ]
  },
  {
   "cell_type": "code",
   "execution_count": 5,
   "metadata": {
    "pycharm": {
     "name": "#%%\n"
    }
   },
   "outputs": [
    {
     "name": "stdout",
     "output_type": "stream",
     "text": [
      "RMSE: [63.033 59.689 64.538 63.699 64.661]\n",
      "RMSE mean: 63.124\n"
     ]
    }
   ],
   "source": [
    "from sklearn.model_selection import cross_val_score\n",
    "from xgboost import XGBRegressor\n",
    "\n",
    "X,y = datasets.load_diabetes(return_X_y=True)\n",
    "\n",
    "xgb = XGBRegressor(booster='gbtree', objective='reg:squarederror',\n",
    "                   learning_rate=0.1, n_estimators=100, random_state=2, n_jobs=-1)\n",
    "\n",
    "scores = cross_val_score(xgb, X, y, scoring='neg_mean_squared_error', cv=5)\n",
    "\n",
    "# Take square root of the scores\n",
    "rmse = np.sqrt(-scores)\n",
    "\n",
    "# Display accuracy\n",
    "print('RMSE:', np.round(rmse, 3))\n",
    "\n",
    "# Display mean score\n",
    "print('RMSE mean: %0.3f' % (rmse.mean()))"
   ]
  },
  {
   "cell_type": "code",
   "execution_count": 8,
   "metadata": {
    "pycharm": {
     "name": "#%%\n"
    }
   },
   "outputs": [
    {
     "data": {
      "text/html": [
       "<div>\n",
       "<style scoped>\n",
       "    .dataframe tbody tr th:only-of-type {\n",
       "        vertical-align: middle;\n",
       "    }\n",
       "\n",
       "    .dataframe tbody tr th {\n",
       "        vertical-align: top;\n",
       "    }\n",
       "\n",
       "    .dataframe thead th {\n",
       "        text-align: right;\n",
       "    }\n",
       "</style>\n",
       "<table border=\"1\" class=\"dataframe\">\n",
       "  <thead>\n",
       "    <tr style=\"text-align: right;\">\n",
       "      <th></th>\n",
       "      <th>0</th>\n",
       "    </tr>\n",
       "  </thead>\n",
       "  <tbody>\n",
       "    <tr>\n",
       "      <th>count</th>\n",
       "      <td>442.000000</td>\n",
       "    </tr>\n",
       "    <tr>\n",
       "      <th>mean</th>\n",
       "      <td>152.133484</td>\n",
       "    </tr>\n",
       "    <tr>\n",
       "      <th>std</th>\n",
       "      <td>77.093005</td>\n",
       "    </tr>\n",
       "    <tr>\n",
       "      <th>min</th>\n",
       "      <td>25.000000</td>\n",
       "    </tr>\n",
       "    <tr>\n",
       "      <th>25%</th>\n",
       "      <td>87.000000</td>\n",
       "    </tr>\n",
       "    <tr>\n",
       "      <th>50%</th>\n",
       "      <td>140.500000</td>\n",
       "    </tr>\n",
       "    <tr>\n",
       "      <th>75%</th>\n",
       "      <td>211.500000</td>\n",
       "    </tr>\n",
       "    <tr>\n",
       "      <th>max</th>\n",
       "      <td>346.000000</td>\n",
       "    </tr>\n",
       "  </tbody>\n",
       "</table>\n",
       "</div>"
      ],
      "text/plain": [
       "                0\n",
       "count  442.000000\n",
       "mean   152.133484\n",
       "std     77.093005\n",
       "min     25.000000\n",
       "25%     87.000000\n",
       "50%    140.500000\n",
       "75%    211.500000\n",
       "max    346.000000"
      ]
     },
     "execution_count": 8,
     "metadata": {},
     "output_type": "execute_result"
    }
   ],
   "source": [
    "pd.DataFrame(y).describe()"
   ]
  },
  {
   "cell_type": "code",
   "execution_count": 3,
   "metadata": {
    "pycharm": {
     "name": "#%%\n"
    }
   },
   "outputs": [
    {
     "data": {
      "text/html": [
       "<div>\n",
       "<style scoped>\n",
       "    .dataframe tbody tr th:only-of-type {\n",
       "        vertical-align: middle;\n",
       "    }\n",
       "\n",
       "    .dataframe tbody tr th {\n",
       "        vertical-align: top;\n",
       "    }\n",
       "\n",
       "    .dataframe thead th {\n",
       "        text-align: right;\n",
       "    }\n",
       "</style>\n",
       "<table border=\"1\" class=\"dataframe\">\n",
       "  <thead>\n",
       "    <tr style=\"text-align: right;\">\n",
       "      <th></th>\n",
       "      <th>EventId</th>\n",
       "      <th>DER_mass_MMC</th>\n",
       "      <th>DER_mass_transverse_met_lep</th>\n",
       "      <th>DER_mass_vis</th>\n",
       "      <th>DER_pt_h</th>\n",
       "      <th>DER_deltaeta_jet_jet</th>\n",
       "      <th>DER_mass_jet_jet</th>\n",
       "      <th>DER_prodeta_jet_jet</th>\n",
       "      <th>DER_deltar_tau_lep</th>\n",
       "      <th>DER_pt_tot</th>\n",
       "      <th>...</th>\n",
       "      <th>PRI_jet_leading_eta</th>\n",
       "      <th>PRI_jet_leading_phi</th>\n",
       "      <th>PRI_jet_subleading_pt</th>\n",
       "      <th>PRI_jet_subleading_eta</th>\n",
       "      <th>PRI_jet_subleading_phi</th>\n",
       "      <th>PRI_jet_all_pt</th>\n",
       "      <th>Weight</th>\n",
       "      <th>Label</th>\n",
       "      <th>KaggleSet</th>\n",
       "      <th>KaggleWeight</th>\n",
       "    </tr>\n",
       "  </thead>\n",
       "  <tbody>\n",
       "    <tr>\n",
       "      <th>0</th>\n",
       "      <td>100000</td>\n",
       "      <td>138.470</td>\n",
       "      <td>51.655</td>\n",
       "      <td>97.827</td>\n",
       "      <td>27.980</td>\n",
       "      <td>0.91</td>\n",
       "      <td>124.711</td>\n",
       "      <td>2.666</td>\n",
       "      <td>3.064</td>\n",
       "      <td>41.928</td>\n",
       "      <td>...</td>\n",
       "      <td>2.150</td>\n",
       "      <td>0.444</td>\n",
       "      <td>46.062</td>\n",
       "      <td>1.24</td>\n",
       "      <td>-2.475</td>\n",
       "      <td>113.497</td>\n",
       "      <td>0.000814</td>\n",
       "      <td>s</td>\n",
       "      <td>t</td>\n",
       "      <td>0.002653</td>\n",
       "    </tr>\n",
       "    <tr>\n",
       "      <th>1</th>\n",
       "      <td>100001</td>\n",
       "      <td>160.937</td>\n",
       "      <td>68.768</td>\n",
       "      <td>103.235</td>\n",
       "      <td>48.146</td>\n",
       "      <td>-999.00</td>\n",
       "      <td>-999.000</td>\n",
       "      <td>-999.000</td>\n",
       "      <td>3.473</td>\n",
       "      <td>2.078</td>\n",
       "      <td>...</td>\n",
       "      <td>0.725</td>\n",
       "      <td>1.158</td>\n",
       "      <td>-999.000</td>\n",
       "      <td>-999.00</td>\n",
       "      <td>-999.000</td>\n",
       "      <td>46.226</td>\n",
       "      <td>0.681042</td>\n",
       "      <td>b</td>\n",
       "      <td>t</td>\n",
       "      <td>2.233584</td>\n",
       "    </tr>\n",
       "    <tr>\n",
       "      <th>2</th>\n",
       "      <td>100002</td>\n",
       "      <td>-999.000</td>\n",
       "      <td>162.172</td>\n",
       "      <td>125.953</td>\n",
       "      <td>35.635</td>\n",
       "      <td>-999.00</td>\n",
       "      <td>-999.000</td>\n",
       "      <td>-999.000</td>\n",
       "      <td>3.148</td>\n",
       "      <td>9.336</td>\n",
       "      <td>...</td>\n",
       "      <td>2.053</td>\n",
       "      <td>-2.028</td>\n",
       "      <td>-999.000</td>\n",
       "      <td>-999.00</td>\n",
       "      <td>-999.000</td>\n",
       "      <td>44.251</td>\n",
       "      <td>0.715742</td>\n",
       "      <td>b</td>\n",
       "      <td>t</td>\n",
       "      <td>2.347389</td>\n",
       "    </tr>\n",
       "    <tr>\n",
       "      <th>3</th>\n",
       "      <td>100003</td>\n",
       "      <td>143.905</td>\n",
       "      <td>81.417</td>\n",
       "      <td>80.943</td>\n",
       "      <td>0.414</td>\n",
       "      <td>-999.00</td>\n",
       "      <td>-999.000</td>\n",
       "      <td>-999.000</td>\n",
       "      <td>3.310</td>\n",
       "      <td>0.414</td>\n",
       "      <td>...</td>\n",
       "      <td>-999.000</td>\n",
       "      <td>-999.000</td>\n",
       "      <td>-999.000</td>\n",
       "      <td>-999.00</td>\n",
       "      <td>-999.000</td>\n",
       "      <td>-0.000</td>\n",
       "      <td>1.660654</td>\n",
       "      <td>b</td>\n",
       "      <td>t</td>\n",
       "      <td>5.446378</td>\n",
       "    </tr>\n",
       "    <tr>\n",
       "      <th>4</th>\n",
       "      <td>100004</td>\n",
       "      <td>175.864</td>\n",
       "      <td>16.915</td>\n",
       "      <td>134.805</td>\n",
       "      <td>16.405</td>\n",
       "      <td>-999.00</td>\n",
       "      <td>-999.000</td>\n",
       "      <td>-999.000</td>\n",
       "      <td>3.891</td>\n",
       "      <td>16.405</td>\n",
       "      <td>...</td>\n",
       "      <td>-999.000</td>\n",
       "      <td>-999.000</td>\n",
       "      <td>-999.000</td>\n",
       "      <td>-999.00</td>\n",
       "      <td>-999.000</td>\n",
       "      <td>0.000</td>\n",
       "      <td>1.904263</td>\n",
       "      <td>b</td>\n",
       "      <td>t</td>\n",
       "      <td>6.245333</td>\n",
       "    </tr>\n",
       "  </tbody>\n",
       "</table>\n",
       "<p>5 rows × 35 columns</p>\n",
       "</div>"
      ],
      "text/plain": [
       "   EventId  DER_mass_MMC  DER_mass_transverse_met_lep  DER_mass_vis  DER_pt_h  \\\n",
       "0   100000       138.470                       51.655        97.827    27.980   \n",
       "1   100001       160.937                       68.768       103.235    48.146   \n",
       "2   100002      -999.000                      162.172       125.953    35.635   \n",
       "3   100003       143.905                       81.417        80.943     0.414   \n",
       "4   100004       175.864                       16.915       134.805    16.405   \n",
       "\n",
       "   DER_deltaeta_jet_jet  DER_mass_jet_jet  DER_prodeta_jet_jet  \\\n",
       "0                  0.91           124.711                2.666   \n",
       "1               -999.00          -999.000             -999.000   \n",
       "2               -999.00          -999.000             -999.000   \n",
       "3               -999.00          -999.000             -999.000   \n",
       "4               -999.00          -999.000             -999.000   \n",
       "\n",
       "   DER_deltar_tau_lep  DER_pt_tot  ...  PRI_jet_leading_eta  \\\n",
       "0               3.064      41.928  ...                2.150   \n",
       "1               3.473       2.078  ...                0.725   \n",
       "2               3.148       9.336  ...                2.053   \n",
       "3               3.310       0.414  ...             -999.000   \n",
       "4               3.891      16.405  ...             -999.000   \n",
       "\n",
       "   PRI_jet_leading_phi  PRI_jet_subleading_pt  PRI_jet_subleading_eta  \\\n",
       "0                0.444                 46.062                    1.24   \n",
       "1                1.158               -999.000                 -999.00   \n",
       "2               -2.028               -999.000                 -999.00   \n",
       "3             -999.000               -999.000                 -999.00   \n",
       "4             -999.000               -999.000                 -999.00   \n",
       "\n",
       "   PRI_jet_subleading_phi  PRI_jet_all_pt    Weight  Label  KaggleSet  \\\n",
       "0                  -2.475         113.497  0.000814      s          t   \n",
       "1                -999.000          46.226  0.681042      b          t   \n",
       "2                -999.000          44.251  0.715742      b          t   \n",
       "3                -999.000          -0.000  1.660654      b          t   \n",
       "4                -999.000           0.000  1.904263      b          t   \n",
       "\n",
       "   KaggleWeight  \n",
       "0      0.002653  \n",
       "1      2.233584  \n",
       "2      2.347389  \n",
       "3      5.446378  \n",
       "4      6.245333  \n",
       "\n",
       "[5 rows x 35 columns]"
      ]
     },
     "execution_count": 3,
     "metadata": {},
     "output_type": "execute_result"
    }
   ],
   "source": [
    "df = pd.read_csv('atlas-higgs-challenge-2014-v2.csv.gz', nrows=250000, compression='gzip')\n",
    "df.head()"
   ]
  },
  {
   "cell_type": "code",
   "execution_count": 6,
   "metadata": {
    "pycharm": {
     "name": "#%%\n"
    }
   },
   "outputs": [
    {
     "data": {
      "text/html": [
       "<div>\n",
       "<style scoped>\n",
       "    .dataframe tbody tr th:only-of-type {\n",
       "        vertical-align: middle;\n",
       "    }\n",
       "\n",
       "    .dataframe tbody tr th {\n",
       "        vertical-align: top;\n",
       "    }\n",
       "\n",
       "    .dataframe thead th {\n",
       "        text-align: right;\n",
       "    }\n",
       "</style>\n",
       "<table border=\"1\" class=\"dataframe\">\n",
       "  <thead>\n",
       "    <tr style=\"text-align: right;\">\n",
       "      <th></th>\n",
       "      <th>EventId</th>\n",
       "      <th>DER_mass_MMC</th>\n",
       "      <th>DER_mass_transverse_met_lep</th>\n",
       "      <th>DER_mass_vis</th>\n",
       "      <th>DER_pt_h</th>\n",
       "      <th>DER_deltaeta_jet_jet</th>\n",
       "      <th>DER_mass_jet_jet</th>\n",
       "      <th>DER_prodeta_jet_jet</th>\n",
       "      <th>DER_deltar_tau_lep</th>\n",
       "      <th>DER_pt_tot</th>\n",
       "      <th>...</th>\n",
       "      <th>PRI_jet_num</th>\n",
       "      <th>PRI_jet_leading_pt</th>\n",
       "      <th>PRI_jet_leading_eta</th>\n",
       "      <th>PRI_jet_leading_phi</th>\n",
       "      <th>PRI_jet_subleading_pt</th>\n",
       "      <th>PRI_jet_subleading_eta</th>\n",
       "      <th>PRI_jet_subleading_phi</th>\n",
       "      <th>PRI_jet_all_pt</th>\n",
       "      <th>Weight</th>\n",
       "      <th>Label</th>\n",
       "    </tr>\n",
       "  </thead>\n",
       "  <tbody>\n",
       "    <tr>\n",
       "      <th>0</th>\n",
       "      <td>100000</td>\n",
       "      <td>138.470</td>\n",
       "      <td>51.655</td>\n",
       "      <td>97.827</td>\n",
       "      <td>27.980</td>\n",
       "      <td>0.91</td>\n",
       "      <td>124.711</td>\n",
       "      <td>2.666</td>\n",
       "      <td>3.064</td>\n",
       "      <td>41.928</td>\n",
       "      <td>...</td>\n",
       "      <td>2</td>\n",
       "      <td>67.435</td>\n",
       "      <td>2.150</td>\n",
       "      <td>0.444</td>\n",
       "      <td>46.062</td>\n",
       "      <td>1.24</td>\n",
       "      <td>-2.475</td>\n",
       "      <td>113.497</td>\n",
       "      <td>0.002653</td>\n",
       "      <td>s</td>\n",
       "    </tr>\n",
       "    <tr>\n",
       "      <th>1</th>\n",
       "      <td>100001</td>\n",
       "      <td>160.937</td>\n",
       "      <td>68.768</td>\n",
       "      <td>103.235</td>\n",
       "      <td>48.146</td>\n",
       "      <td>-999.00</td>\n",
       "      <td>-999.000</td>\n",
       "      <td>-999.000</td>\n",
       "      <td>3.473</td>\n",
       "      <td>2.078</td>\n",
       "      <td>...</td>\n",
       "      <td>1</td>\n",
       "      <td>46.226</td>\n",
       "      <td>0.725</td>\n",
       "      <td>1.158</td>\n",
       "      <td>-999.000</td>\n",
       "      <td>-999.00</td>\n",
       "      <td>-999.000</td>\n",
       "      <td>46.226</td>\n",
       "      <td>2.233584</td>\n",
       "      <td>b</td>\n",
       "    </tr>\n",
       "    <tr>\n",
       "      <th>2</th>\n",
       "      <td>100002</td>\n",
       "      <td>-999.000</td>\n",
       "      <td>162.172</td>\n",
       "      <td>125.953</td>\n",
       "      <td>35.635</td>\n",
       "      <td>-999.00</td>\n",
       "      <td>-999.000</td>\n",
       "      <td>-999.000</td>\n",
       "      <td>3.148</td>\n",
       "      <td>9.336</td>\n",
       "      <td>...</td>\n",
       "      <td>1</td>\n",
       "      <td>44.251</td>\n",
       "      <td>2.053</td>\n",
       "      <td>-2.028</td>\n",
       "      <td>-999.000</td>\n",
       "      <td>-999.00</td>\n",
       "      <td>-999.000</td>\n",
       "      <td>44.251</td>\n",
       "      <td>2.347389</td>\n",
       "      <td>b</td>\n",
       "    </tr>\n",
       "    <tr>\n",
       "      <th>3</th>\n",
       "      <td>100003</td>\n",
       "      <td>143.905</td>\n",
       "      <td>81.417</td>\n",
       "      <td>80.943</td>\n",
       "      <td>0.414</td>\n",
       "      <td>-999.00</td>\n",
       "      <td>-999.000</td>\n",
       "      <td>-999.000</td>\n",
       "      <td>3.310</td>\n",
       "      <td>0.414</td>\n",
       "      <td>...</td>\n",
       "      <td>0</td>\n",
       "      <td>-999.000</td>\n",
       "      <td>-999.000</td>\n",
       "      <td>-999.000</td>\n",
       "      <td>-999.000</td>\n",
       "      <td>-999.00</td>\n",
       "      <td>-999.000</td>\n",
       "      <td>-0.000</td>\n",
       "      <td>5.446378</td>\n",
       "      <td>b</td>\n",
       "    </tr>\n",
       "    <tr>\n",
       "      <th>4</th>\n",
       "      <td>100004</td>\n",
       "      <td>175.864</td>\n",
       "      <td>16.915</td>\n",
       "      <td>134.805</td>\n",
       "      <td>16.405</td>\n",
       "      <td>-999.00</td>\n",
       "      <td>-999.000</td>\n",
       "      <td>-999.000</td>\n",
       "      <td>3.891</td>\n",
       "      <td>16.405</td>\n",
       "      <td>...</td>\n",
       "      <td>0</td>\n",
       "      <td>-999.000</td>\n",
       "      <td>-999.000</td>\n",
       "      <td>-999.000</td>\n",
       "      <td>-999.000</td>\n",
       "      <td>-999.00</td>\n",
       "      <td>-999.000</td>\n",
       "      <td>0.000</td>\n",
       "      <td>6.245333</td>\n",
       "      <td>b</td>\n",
       "    </tr>\n",
       "  </tbody>\n",
       "</table>\n",
       "<p>5 rows × 33 columns</p>\n",
       "</div>"
      ],
      "text/plain": [
       "   EventId  DER_mass_MMC  DER_mass_transverse_met_lep  DER_mass_vis  DER_pt_h  \\\n",
       "0   100000       138.470                       51.655        97.827    27.980   \n",
       "1   100001       160.937                       68.768       103.235    48.146   \n",
       "2   100002      -999.000                      162.172       125.953    35.635   \n",
       "3   100003       143.905                       81.417        80.943     0.414   \n",
       "4   100004       175.864                       16.915       134.805    16.405   \n",
       "\n",
       "   DER_deltaeta_jet_jet  DER_mass_jet_jet  DER_prodeta_jet_jet  \\\n",
       "0                  0.91           124.711                2.666   \n",
       "1               -999.00          -999.000             -999.000   \n",
       "2               -999.00          -999.000             -999.000   \n",
       "3               -999.00          -999.000             -999.000   \n",
       "4               -999.00          -999.000             -999.000   \n",
       "\n",
       "   DER_deltar_tau_lep  DER_pt_tot  ...  PRI_jet_num  PRI_jet_leading_pt  \\\n",
       "0               3.064      41.928  ...            2              67.435   \n",
       "1               3.473       2.078  ...            1              46.226   \n",
       "2               3.148       9.336  ...            1              44.251   \n",
       "3               3.310       0.414  ...            0            -999.000   \n",
       "4               3.891      16.405  ...            0            -999.000   \n",
       "\n",
       "   PRI_jet_leading_eta  PRI_jet_leading_phi  PRI_jet_subleading_pt  \\\n",
       "0                2.150                0.444                 46.062   \n",
       "1                0.725                1.158               -999.000   \n",
       "2                2.053               -2.028               -999.000   \n",
       "3             -999.000             -999.000               -999.000   \n",
       "4             -999.000             -999.000               -999.000   \n",
       "\n",
       "   PRI_jet_subleading_eta  PRI_jet_subleading_phi  PRI_jet_all_pt    Weight  \\\n",
       "0                    1.24                  -2.475         113.497  0.002653   \n",
       "1                 -999.00                -999.000          46.226  2.233584   \n",
       "2                 -999.00                -999.000          44.251  2.347389   \n",
       "3                 -999.00                -999.000          -0.000  5.446378   \n",
       "4                 -999.00                -999.000           0.000  6.245333   \n",
       "\n",
       "   Label  \n",
       "0      s  \n",
       "1      b  \n",
       "2      b  \n",
       "3      b  \n",
       "4      b  \n",
       "\n",
       "[5 rows x 33 columns]"
      ]
     },
     "execution_count": 6,
     "metadata": {},
     "output_type": "execute_result"
    }
   ],
   "source": [
    "del df['Weight']\n",
    "del df['KaggleSet']\n",
    "df = df.rename(columns={\"KaggleWeight\": \"Weight\"})\n",
    "label_col = df['Label']\n",
    "del df['Label']\n",
    "df['Label'] = label_col\n",
    "df.head()"
   ]
  },
  {
   "cell_type": "code",
   "execution_count": 7,
   "metadata": {
    "pycharm": {
     "name": "#%%\n"
    }
   },
   "outputs": [],
   "source": [
    "df['Label'].replace(('s', 'b'), (1, 0), inplace=True)"
   ]
  },
  {
   "cell_type": "code",
   "execution_count": 8,
   "metadata": {
    "pycharm": {
     "name": "#%%\n"
    }
   },
   "outputs": [],
   "source": [
    "X = df.iloc[:,1:31]\n",
    "y = df.iloc[:,-1]"
   ]
  },
  {
   "cell_type": "code",
   "execution_count": 9,
   "metadata": {
    "pycharm": {
     "name": "#%%\n"
    }
   },
   "outputs": [],
   "source": [
    "df['test_Weight'] = df['Weight'] * 550000 / len(y)"
   ]
  },
  {
   "cell_type": "code",
   "execution_count": 10,
   "metadata": {
    "pycharm": {
     "name": "#%%\n"
    }
   },
   "outputs": [],
   "source": [
    "s = np.sum(df[df['Label']==1]['test_Weight'])\n",
    "b = np.sum(df[df['Label']==0]['test_Weight'])"
   ]
  },
  {
   "cell_type": "code",
   "execution_count": 11,
   "metadata": {
    "pycharm": {
     "name": "#%%\n"
    }
   },
   "outputs": [
    {
     "name": "stdout",
     "output_type": "stream",
     "text": [
      "loading data end, start to boost trees\n",
      "[0]\ttrain-auc:0.91088\ttrain-ams@0.15:3.69846\n",
      "[1]\ttrain-auc:0.91532\ttrain-ams@0.15:3.99148\n",
      "[2]\ttrain-auc:0.91797\ttrain-ams@0.15:4.09947\n",
      "[3]\ttrain-auc:0.91950\ttrain-ams@0.15:4.25035\n",
      "[4]\ttrain-auc:0.92047\ttrain-ams@0.15:4.24004\n",
      "[5]\ttrain-auc:0.92130\ttrain-ams@0.15:4.24742\n",
      "[6]\ttrain-auc:0.92223\ttrain-ams@0.15:4.33231\n",
      "[7]\ttrain-auc:0.92335\ttrain-ams@0.15:4.35929\n",
      "[8]\ttrain-auc:0.92386\ttrain-ams@0.15:4.37476\n",
      "[9]\ttrain-auc:0.92424\ttrain-ams@0.15:4.36366\n",
      "[10]\ttrain-auc:0.92481\ttrain-ams@0.15:4.36513\n",
      "[11]\ttrain-auc:0.92540\ttrain-ams@0.15:4.40817\n",
      "[12]\ttrain-auc:0.92581\ttrain-ams@0.15:4.41476\n",
      "[13]\ttrain-auc:0.92641\ttrain-ams@0.15:4.46194\n",
      "[14]\ttrain-auc:0.92684\ttrain-ams@0.15:4.43823\n",
      "[15]\ttrain-auc:0.92734\ttrain-ams@0.15:4.47224\n",
      "[16]\ttrain-auc:0.92801\ttrain-ams@0.15:4.52076\n",
      "[17]\ttrain-auc:0.92844\ttrain-ams@0.15:4.57117\n",
      "[18]\ttrain-auc:0.92898\ttrain-ams@0.15:4.60248\n",
      "[19]\ttrain-auc:0.92933\ttrain-ams@0.15:4.65436\n",
      "[20]\ttrain-auc:0.92984\ttrain-ams@0.15:4.69182\n",
      "[21]\ttrain-auc:0.93013\ttrain-ams@0.15:4.71386\n",
      "[22]\ttrain-auc:0.93054\ttrain-ams@0.15:4.73438\n",
      "[23]\ttrain-auc:0.93096\ttrain-ams@0.15:4.77706\n",
      "[24]\ttrain-auc:0.93128\ttrain-ams@0.15:4.78063\n",
      "[25]\ttrain-auc:0.93161\ttrain-ams@0.15:4.78428\n",
      "[26]\ttrain-auc:0.93184\ttrain-ams@0.15:4.81150\n",
      "[27]\ttrain-auc:0.93215\ttrain-ams@0.15:4.82571\n",
      "[28]\ttrain-auc:0.93247\ttrain-ams@0.15:4.84798\n",
      "[29]\ttrain-auc:0.93284\ttrain-ams@0.15:4.87288\n",
      "[30]\ttrain-auc:0.93320\ttrain-ams@0.15:4.88279\n",
      "[31]\ttrain-auc:0.93346\ttrain-ams@0.15:4.89748\n",
      "[32]\ttrain-auc:0.93374\ttrain-ams@0.15:4.91347\n",
      "[33]\ttrain-auc:0.93404\ttrain-ams@0.15:4.93876\n",
      "[34]\ttrain-auc:0.93431\ttrain-ams@0.15:4.93793\n",
      "[35]\ttrain-auc:0.93455\ttrain-ams@0.15:4.95059\n",
      "[36]\ttrain-auc:0.93484\ttrain-ams@0.15:4.98030\n",
      "[37]\ttrain-auc:0.93505\ttrain-ams@0.15:4.99584\n",
      "[38]\ttrain-auc:0.93528\ttrain-ams@0.15:5.00796\n",
      "[39]\ttrain-auc:0.93558\ttrain-ams@0.15:5.02300\n",
      "[40]\ttrain-auc:0.93590\ttrain-ams@0.15:5.06896\n",
      "[41]\ttrain-auc:0.93606\ttrain-ams@0.15:5.07007\n",
      "[42]\ttrain-auc:0.93629\ttrain-ams@0.15:5.10851\n",
      "[43]\ttrain-auc:0.93653\ttrain-ams@0.15:5.13189\n",
      "[44]\ttrain-auc:0.93669\ttrain-ams@0.15:5.17090\n",
      "[45]\ttrain-auc:0.93689\ttrain-ams@0.15:5.17261\n",
      "[46]\ttrain-auc:0.93711\ttrain-ams@0.15:5.18757\n",
      "[47]\ttrain-auc:0.93726\ttrain-ams@0.15:5.19949\n",
      "[48]\ttrain-auc:0.93750\ttrain-ams@0.15:5.23717\n",
      "[49]\ttrain-auc:0.93772\ttrain-ams@0.15:5.27283\n",
      "[50]\ttrain-auc:0.93791\ttrain-ams@0.15:5.27378\n",
      "[51]\ttrain-auc:0.93806\ttrain-ams@0.15:5.29559\n",
      "[52]\ttrain-auc:0.93827\ttrain-ams@0.15:5.29996\n",
      "[53]\ttrain-auc:0.93841\ttrain-ams@0.15:5.31223\n",
      "[54]\ttrain-auc:0.93856\ttrain-ams@0.15:5.34370\n",
      "[55]\ttrain-auc:0.93878\ttrain-ams@0.15:5.38272\n",
      "[56]\ttrain-auc:0.93894\ttrain-ams@0.15:5.38795\n",
      "[57]\ttrain-auc:0.93919\ttrain-ams@0.15:5.41112\n",
      "[58]\ttrain-auc:0.93941\ttrain-ams@0.15:5.43123\n",
      "[59]\ttrain-auc:0.93954\ttrain-ams@0.15:5.45242\n",
      "[60]\ttrain-auc:0.93966\ttrain-ams@0.15:5.46052\n",
      "[61]\ttrain-auc:0.93983\ttrain-ams@0.15:5.46471\n",
      "[62]\ttrain-auc:0.94000\ttrain-ams@0.15:5.49109\n",
      "[63]\ttrain-auc:0.94013\ttrain-ams@0.15:5.50751\n",
      "[64]\ttrain-auc:0.94033\ttrain-ams@0.15:5.50510\n",
      "[65]\ttrain-auc:0.94045\ttrain-ams@0.15:5.50838\n",
      "[66]\ttrain-auc:0.94058\ttrain-ams@0.15:5.51772\n",
      "[67]\ttrain-auc:0.94073\ttrain-ams@0.15:5.52587\n",
      "[68]\ttrain-auc:0.94086\ttrain-ams@0.15:5.55652\n",
      "[69]\ttrain-auc:0.94098\ttrain-ams@0.15:5.55034\n",
      "[70]\ttrain-auc:0.94106\ttrain-ams@0.15:5.55490\n",
      "[71]\ttrain-auc:0.94125\ttrain-ams@0.15:5.57151\n",
      "[72]\ttrain-auc:0.94136\ttrain-ams@0.15:5.58337\n",
      "[73]\ttrain-auc:0.94145\ttrain-ams@0.15:5.61163\n",
      "[74]\ttrain-auc:0.94161\ttrain-ams@0.15:5.59183\n",
      "[75]\ttrain-auc:0.94177\ttrain-ams@0.15:5.61877\n",
      "[76]\ttrain-auc:0.94188\ttrain-ams@0.15:5.62500\n",
      "[77]\ttrain-auc:0.94197\ttrain-ams@0.15:5.63231\n",
      "[78]\ttrain-auc:0.94211\ttrain-ams@0.15:5.63739\n",
      "[79]\ttrain-auc:0.94225\ttrain-ams@0.15:5.62947\n",
      "[80]\ttrain-auc:0.94234\ttrain-ams@0.15:5.65564\n",
      "[81]\ttrain-auc:0.94244\ttrain-ams@0.15:5.65477\n",
      "[82]\ttrain-auc:0.94253\ttrain-ams@0.15:5.68027\n",
      "[83]\ttrain-auc:0.94266\ttrain-ams@0.15:5.69383\n",
      "[84]\ttrain-auc:0.94280\ttrain-ams@0.15:5.70617\n",
      "[85]\ttrain-auc:0.94289\ttrain-ams@0.15:5.69752\n",
      "[86]\ttrain-auc:0.94299\ttrain-ams@0.15:5.71079\n",
      "[87]\ttrain-auc:0.94308\ttrain-ams@0.15:5.71219\n",
      "[88]\ttrain-auc:0.94317\ttrain-ams@0.15:5.72329\n",
      "[89]\ttrain-auc:0.94323\ttrain-ams@0.15:5.72043\n",
      "[90]\ttrain-auc:0.94329\ttrain-ams@0.15:5.72936\n",
      "[91]\ttrain-auc:0.94339\ttrain-ams@0.15:5.74238\n",
      "[92]\ttrain-auc:0.94348\ttrain-ams@0.15:5.74081\n",
      "[93]\ttrain-auc:0.94355\ttrain-ams@0.15:5.74939\n",
      "[94]\ttrain-auc:0.94364\ttrain-ams@0.15:5.75580\n",
      "[95]\ttrain-auc:0.94369\ttrain-ams@0.15:5.75838\n",
      "[96]\ttrain-auc:0.94380\ttrain-ams@0.15:5.77171\n",
      "[97]\ttrain-auc:0.94387\ttrain-ams@0.15:5.76682\n",
      "[98]\ttrain-auc:0.94398\ttrain-ams@0.15:5.77432\n",
      "[99]\ttrain-auc:0.94405\ttrain-ams@0.15:5.78181\n",
      "[100]\ttrain-auc:0.94413\ttrain-ams@0.15:5.80042\n",
      "[101]\ttrain-auc:0.94424\ttrain-ams@0.15:5.79658\n",
      "[102]\ttrain-auc:0.94436\ttrain-ams@0.15:5.79964\n",
      "[103]\ttrain-auc:0.94441\ttrain-ams@0.15:5.81219\n",
      "[104]\ttrain-auc:0.94447\ttrain-ams@0.15:5.81803\n",
      "[105]\ttrain-auc:0.94458\ttrain-ams@0.15:5.82990\n",
      "[106]\ttrain-auc:0.94472\ttrain-ams@0.15:5.83145\n",
      "[107]\ttrain-auc:0.94478\ttrain-ams@0.15:5.83655\n",
      "[108]\ttrain-auc:0.94488\ttrain-ams@0.15:5.83541\n",
      "[109]\ttrain-auc:0.94491\ttrain-ams@0.15:5.83613\n",
      "[110]\ttrain-auc:0.94498\ttrain-ams@0.15:5.84637\n",
      "[111]\ttrain-auc:0.94509\ttrain-ams@0.15:5.84460\n",
      "[112]\ttrain-auc:0.94514\ttrain-ams@0.15:5.84944\n",
      "[113]\ttrain-auc:0.94520\ttrain-ams@0.15:5.86104\n",
      "[114]\ttrain-auc:0.94528\ttrain-ams@0.15:5.86460\n",
      "[115]\ttrain-auc:0.94540\ttrain-ams@0.15:5.89831\n",
      "[116]\ttrain-auc:0.94542\ttrain-ams@0.15:5.90637\n",
      "[117]\ttrain-auc:0.94556\ttrain-ams@0.15:5.89037\n",
      "[118]\ttrain-auc:0.94564\ttrain-ams@0.15:5.90082\n",
      "[119]\ttrain-auc:0.94573\ttrain-ams@0.15:5.90612\n",
      "finish training\n"
     ]
    }
   ],
   "source": [
    "#!/usr/bin/python\n",
    "# this is the example script to use xgboost to train\n",
    "import xgboost as xgb\n",
    "\n",
    "# construct xgboost.DMatrix from numpy array, treat -999.0 as missing value\n",
    "xgb_clf = xgb.DMatrix(X, y, missing = -999.0, weight=df['test_Weight'],)\n",
    "\n",
    "# setup parameters for xgboost\n",
    "param = {}\n",
    "# use logistic regression loss, use raw prediction before logistic transformation\n",
    "# since we only need the rank\n",
    "param['objective'] = 'binary:logitraw'\n",
    "# scale weight of positive examples\n",
    "param['scale_pos_weight'] = b/s\n",
    "param['eta'] = 0.1\n",
    "param['max_depth'] = 6\n",
    "param['eval_metric'] = 'auc'\n",
    "\n",
    "# you can directly throw param in, though we want to watch multiple metrics here\n",
    "plst = list(param.items())+[('eval_metric', 'ams@0.15')]\n",
    "\n",
    "watchlist = [ (xgb_clf,'train') ]\n",
    "\n",
    "# boost 120 trees\n",
    "num_round = 120\n",
    "\n",
    "print ('loading data end, start to boost trees')\n",
    "bst = xgb.train( plst, xgb_clf, num_round, watchlist )\n",
    "bst.save_model('higgs.model')\n",
    "print ('finish training')"
   ]
  },
  {
   "cell_type": "code",
   "execution_count": null,
   "metadata": {
    "pycharm": {
     "name": "#%%\n"
    }
   },
   "outputs": [],
   "source": []
  }
 ],
 "metadata": {
  "kernelspec": {
   "display_name": "Python 3",
   "language": "python",
   "name": "python3"
  },
  "language_info": {
   "codemirror_mode": {
    "name": "ipython",
    "version": 3
   },
   "file_extension": ".py",
   "mimetype": "text/x-python",
   "name": "python",
   "nbconvert_exporter": "python",
   "pygments_lexer": "ipython3",
   "version": "3.7.6"
  }
 },
 "nbformat": 4,
 "nbformat_minor": 1
}
