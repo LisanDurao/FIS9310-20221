{
 "cells": [
  {
   "cell_type": "markdown",
   "metadata": {},
   "source": [
    "# Métodos Matemáticos e Computacionais de Aprendizado de Máquina"
   ]
  },
  {
   "cell_type": "markdown",
   "metadata": {},
   "source": [
    "## Parte I - Conceitos Fundamentais"
   ]
  },
  {
   "cell_type": "markdown",
   "metadata": {},
   "source": [
    "### I.1) Algumas Ideias Sobre Aprendizado de Máquina"
   ]
  },
  {
   "cell_type": "markdown",
   "metadata": {},
   "source": [
    "Aprendizado de Máquina (ou Machine learning) é um conjunto de conceitos matemáticos e computacionais que permitem um computador aprender um modelo matemático a partir de um conjunto de dados."
   ]
  },
  {
   "cell_type": "markdown",
   "metadata": {},
   "source": [
    "Essas técnicas são de larga utilidade nos seguintes problemas:\n",
    "\n",
    "1. Problemas onde existe uma solução, porém ela requer uma grande quantidade de ajuste-fino nos parêmetros ou uma longa lista de regras.\n",
    "\n",
    "2. Problemas complexos, para os quais o uso de métodos matemáticos ou estatísticos convencionais não trazem bons resultados.\n",
    "\n",
    "3. Ambiente Dinâmico\n",
    "\n",
    "4. Adquirir informações sobre grandes quantidades de dados ou dados muito complexos.\n",
    "\n"
   ]
  },
  {
   "cell_type": "markdown",
   "metadata": {},
   "source": [
    "Podemos agrupar os métodos de machine learning de acordo com três critérios:\n",
    "\n",
    "* Quando são treinados com supervisão humana\n",
    "* Quando são treinados de forma incremental e durante seu funcionamento\n",
    "* Quando eles aprendem comparando novos datapoints com datapoints já avaliados\n",
    "\n",
    "Esses critérios não são excludentes, mas nos ajudam a definir os principais modelos de aprendizado de máquina:\n",
    "\n",
    "* Supervisionado, Não-Supervisionado, Semi-Supervisionado e Por Reforço\n",
    "* Aprendizado Online e Aprendizado em Pacotes\n",
    "* Baseado em Instâncias ou Baseado em Modelos\n",
    "\n",
    "    "
   ]
  },
  {
   "cell_type": "markdown",
   "metadata": {},
   "source": [
    "Vamos descrever os principais tipos de aprendizado:"
   ]
  },
  {
   "cell_type": "markdown",
   "metadata": {},
   "source": [
    "I. Aprendizado Supervionado\n",
    "   \n",
    "O conjunto de dados apresentado é composto é um ensemble de pares de vetores $\\{(\\vec{x}_i,y_i)\\}_{i=1}^{N}$, onde $\\vec{x}$ é o vetor de variáveis preditoras e $y$ é o valor da variável alvo que pode pertencer à duas classes:\n",
    "\n",
    "* Contínua ou Discreta e Incontável: Regressão\n",
    "* Discreta e Contável              : Classificação\n",
    "   \n",
    "O objetivo de um problema de aprendizado supervisionado é usar o dataset para produzir um modelo que toma um vetor $\\vec{x}$ de dimensão $p$ como input e fornece como output informação que permite obter o valor de $y$, seja ele umv valor discreto, representando uma característica, seja ele um valor contínuo representando uma grandeza escalar."
   ]
  },
  {
   "cell_type": "markdown",
   "metadata": {},
   "source": [
    "II. Aprendizado Semi-Supervisionado\n",
    "\n",
    "Muito similar ao aprendizado supervisionado, contudo neste caso nem todos os vetores de variáveis preditoras estão associados à um escalar representando a variável dependenete. A principal premissa aqui é que a inclusão de mais dados no treinamento do modelo ajude a aumentar o poder preditor do mesmo."
   ]
  },
  {
   "cell_type": "markdown",
   "metadata": {},
   "source": [
    "III. Aprendizado Não-Supervisionado\n",
    "\n",
    "Neste caso, o dataset é um conjunto de vetores contendo as variáveis preditoras, mas sem um alvo definido. O objetivo geral de um modelo de aprendizado não supervisionado é criar um modelo que toma um vetor de variáveis $\\vec{x}$ como input e transforma ele em um novo vetor ou um escalar fornecendo assim algum tipo de compreensão sobre o problema.\n"
   ]
  },
  {
   "cell_type": "markdown",
   "metadata": {},
   "source": [
    "IV. Aprendizado por Reforço\n",
    "\n",
    "Neste caso, a máquina \"vive\" em um ambiente e é capaz de responder ao estado desse ambiente de forma dinâmica como um novo input de dados. \n",
    "A máquina pode realizar ações diferentes, aprendendo a responder aos estimúlos do ambiente. O objetivo é que o modelo seja capaz de aprender uma política que aplica a ação ótima a cada mudança de estado do ambiente."
   ]
  },
  {
   "cell_type": "markdown",
   "metadata": {},
   "source": [
    "Usualmente, nos cursos de estatística básica, aprendemos como usar estatísitica para estimar uma quantidade desconhecida ou a relação entre duas ou mais variáveis. Uma tarefa chamada de estimação.Contudo, machine learning está mais preocupada com outro tipo de tarefa: a predição. Apesar de possuírem diversas diferenças conceituais, essas duas tarefas podem ser apresentadas de forma unificada."
   ]
  },
  {
   "cell_type": "markdown",
   "metadata": {},
   "source": [
    "Primeiro, escolhemos um conjunto de variáveis que podem ser medidas/observadas/coletadas do sistema que estamos interessados, formando o vetor de dados $\\vec{x}$. Essas variáveis se relacionam com um conjunto de parãmetros representados pelo vetor $\\vec{\\theta}$ de um modelo que pode ser representado por uma função $f(\\vec{x},\\vec{\\theta})$ que pode ser tanto um funcional quanto uma distribuição de probabilidades, descrevendo o comportamento de $\\vec{x}$ dado $\\vec{\\theta}$. Uma vez coletado os dados, podemos treinar o modelo."
   ]
  },
  {
   "cell_type": "markdown",
   "metadata": {},
   "source": [
    "Treinar o modelo, siginifca encontrar o conjunto de parâmetros $\\vec{\\theta}$ que melhor explica o conjunto de dados e realiza as melhores predições, de acordo com uma métrica pré-definida. Ou seja, não estamos únicamente interessados em explicar a relação entre as variáveis, mas também buscamos fazer previsões suportadas por dados. E isso é que separa a predição da estimação. No processo de estimação, buscamos quantificar o quanto estamos confiantes com os parâmetros que encontramos no processo de treino, ao passo que no caso da predição, estamos interessados em quão bem o nosso modelo consegue prever resultados com base em novos dados."
   ]
  },
  {
   "cell_type": "markdown",
   "metadata": {},
   "source": [
    "Para que o processo de treino seja bem sucedido, existe consenso sobre um conjunto de passos que deve ser seguido:"
   ]
  },
  {
   "cell_type": "markdown",
   "metadata": {},
   "source": [
    "1. Dividir aleatória mente o dataset em dois grupos mutualmente excludentes, o treino e o teste.\n",
    "2. Realizar qualquer tipo de análise exploratória após o particionamento, JAMAIS antes.\n",
    "3. O treino nada mais é que um processo de otimização de uma medida de erro na predição, usando apenas o conjunto de treino.\n",
    "4. A performance do modelo é avaliada apenas utilizando as predições do modelo no conjunto de teste."
   ]
  },
  {
   "cell_type": "markdown",
   "metadata": {},
   "source": [
    "### I.2) Exemplo: Regressão Linear"
   ]
  },
  {
   "cell_type": "markdown",
   "metadata": {},
   "source": [
    "Regressão linear é o modelo preditivo mais simples que podemos formular. Tem sido o padrão de análise em estatística e econometria desde a era pré-computador.\n",
    "Do ponto de vista estatístico, sua simplicidade permite realizar uma inferência completa do impacto de cada variável.\n",
    "Basicamente, um modelo de regressão linear é uma soma ponderada das variáveis preditoras acrescidads de um termo constante:\n",
    "\n",
    "$$\n",
    "\\hat{y} = \\theta_0 + \\theta_1x_1+\\theta_2x_2+...+\\theta_nx_n\n",
    "$$"
   ]
  },
  {
   "cell_type": "markdown",
   "metadata": {},
   "source": [
    "Onde temos que:\n",
    "\n",
    "a) $\\hat{y}$ é a variável predita ou dependente;\n",
    "\n",
    "b) $n$ é o número de variáveis preditoras ou independentes;\n",
    "\n",
    "c) $x_i$ é a i-ésima variável preditora ou indepentende;\n",
    "\n",
    "d) $\\theta_j$ é o j-ésimo parâmetro do modelo, onde $\\theta_0$ é o viés constante. \n",
    "\n",
    "\n",
    "Essa equação pode ser escrita de uma forma muito mais elegante:\n",
    "\n",
    "$$\n",
    "\\hat{y} = h_{\\mathbb{\\theta}}(\\mathbb{x}) = \\mathbb{\\theta}\\cdot\\mathbb{x}\n",
    "$$\n",
    "\n",
    "Onde nesta equação:\n",
    "\n",
    "a) $\\mathbb{\\theta}$ é o vetor de parâmetros do modelo, incluíndo o termo de viés $\\theta_0$ e os pesos de cada variável $\\theta_i$;\n",
    "\n",
    "b) $\\mathbb{x}$ é o vetor de variáveis preditoras, incluíndo o termo de viés $x_0$ e os pesos de cada variável $x_i$; \n"
   ]
  },
  {
   "cell_type": "markdown",
   "metadata": {},
   "source": [
    "Os parâmetros de um modelo de regressão linear são obtidos minimizando o Erro Quadrático Médio(MSE) como função custo:\n",
    "\n",
    "\n",
    "$$\n",
    "MSE (\\vec{X},h_{\\vec{\\theta}}) = \\frac{1}{m_i}\\sum_{i=1}^{m}\\left(\\vec{\\theta}^T\\vec{x}^{(i)} - y^{(i)}\\right)^2\n",
    "$$\n",
    "\n",
    "A solução é dada pela chamada equação normal:\n",
    "\n",
    "\n",
    "$$\n",
    "\\hat{\\theta} = (\\vec{X}^T\\vec{X})^{-1}\\vec{X}^T\\vec{y}\n",
    "$$\n",
    "\n",
    "Onde:\n",
    "\n",
    "* $\\hat{\\theta}$ é o vetor contendo os valores de $\\theta$ que minimizam o MSE;\n",
    "* $\\vec{y}$ é o vetor contendo os valores da variável alvo."
   ]
  },
  {
   "cell_type": "markdown",
   "metadata": {},
   "source": [
    "Podemos facilmente gerar dados contendo uma tendência linear:"
   ]
  },
  {
   "cell_type": "code",
   "execution_count": 2,
   "metadata": {},
   "outputs": [
    {
     "data": {
      "image/png": "[encoded data removed]",
      "text/plain": [
       "<Figure size 720x576 with 1 Axes>"
      ]
     },
     "metadata": {
      "needs_background": "light"
     },
     "output_type": "display_data"
    }
   ],
   "source": [
    "import numpy as np # Biblioteca Numérica e de Álgebra Linear\n",
    "import matplotlib.pyplot as plt # Biblioteca para visualização de dados\n",
    "\n",
    "X = 2*np.random.rand(100,1)\n",
    "y = 4 + 3*X + np.random.randn(100,1)\n",
    "\n",
    "plt.figure(figsize=(10,8))\n",
    "plt.scatter(X,y)\n",
    "plt.xlabel(\"X\", fontsize=20)\n",
    "plt.xticks(fontsize=20)\n",
    "plt.ylabel(\"y\",fontsize=20)\n",
    "plt.ylim(0,14)\n",
    "plt.yticks(fontsize=20)\n",
    "plt.grid()\n",
    "plt.show()"
   ]
  },
  {
   "cell_type": "markdown",
   "metadata": {},
   "source": [
    "Podemos calcular os parâmetros dessa regressão linear utilizando a equação normal e os pacotes de algebra linear da Biblioteca numpy:"
   ]
  },
  {
   "cell_type": "code",
   "execution_count": 44,
   "metadata": {},
   "outputs": [],
   "source": [
    "X_b = np.c_[np.ones((100,1)),X] # add x0=1\n",
    "theta_best = np.linalg.inv(X_b.T.dot(X_b)).dot(X_b.T).dot(y)"
   ]
  },
  {
   "cell_type": "code",
   "execution_count": 45,
   "metadata": {},
   "outputs": [
    {
     "data": {
      "text/plain": [
       "array([[4.02013607],\n",
       "       [3.08085593]])"
      ]
     },
     "execution_count": 45,
     "metadata": {},
     "output_type": "execute_result"
    }
   ],
   "source": [
    "theta_best"
   ]
  },
  {
   "cell_type": "markdown",
   "metadata": {},
   "source": [
    "Agora, podemos testar o modelo fazendo previsões:"
   ]
  },
  {
   "cell_type": "code",
   "execution_count": 46,
   "metadata": {},
   "outputs": [],
   "source": [
    "X_new = np.array([[0],[2]])\n",
    "X_new_b = np.c_[np.ones((2,1)),X_new]\n",
    "y_predict = X_new_b.dot(theta_best)"
   ]
  },
  {
   "cell_type": "code",
   "execution_count": 47,
   "metadata": {},
   "outputs": [
    {
     "data": {
      "image/png": "[encoded data removed]",
      "text/plain": [
       "<Figure size 720x576 with 1 Axes>"
      ]
     },
     "metadata": {
      "needs_background": "light"
     },
     "output_type": "display_data"
    }
   ],
   "source": [
    "plt.figure(figsize=(10,8))\n",
    "plt.plot(X_new,y_predict,\"-r\")\n",
    "plt.plot(X,y,\"b.\")\n",
    "plt.axis([0,2,0,15])\n",
    "plt.xlabel(\"X\", fontsize=20)\n",
    "plt.xticks(fontsize=20)\n",
    "plt.ylabel(\"y\",fontsize=20)\n",
    "plt.ylim(0,14)\n",
    "plt.yticks(fontsize=20)\n",
    "plt.grid()\n",
    "plt.show()"
   ]
  },
  {
   "cell_type": "markdown",
   "metadata": {},
   "source": [
    "É muito mais fácil utilizar uma biblioteca dedicada à tarefas de machine learning para realizar esses procedimentos, embora para o caso de uma regressão linear simples, não há nenhuma diferença real entre as duas soluções:"
   ]
  },
  {
   "cell_type": "code",
   "execution_count": 4,
   "metadata": {},
   "outputs": [],
   "source": [
    "from sklearn.linear_model import LinearRegression"
   ]
  },
  {
   "cell_type": "code",
   "execution_count": 9,
   "metadata": {},
   "outputs": [
    {
     "data": {
      "text/plain": [
       "(array([4.01185998]), array([[3.06197287]]))"
      ]
     },
     "execution_count": 9,
     "metadata": {},
     "output_type": "execute_result"
    }
   ],
   "source": [
    "lin_reg = LinearRegression()\n",
    "lin_reg.fit(X,y)\n",
    "lin_reg.intercept_, lin_reg.coef_"
   ]
  },
  {
   "cell_type": "markdown",
   "metadata": {},
   "source": [
    "Observe que obtivemos exatamente o mesmo resultado pelos dois métodos. Claro que trata-se de um problema muito simples, então não devemos esperar grandes variações. "
   ]
  },
  {
   "cell_type": "markdown",
   "metadata": {},
   "source": [
    "Agora, vamos explorar um dataset com mais variáveis e com aspectos de modelagem mais interessantes. Uma das aplicações mais famosas dos modelos de aprendizado estatístico são os Modelos Hedônicos de Preços. Em poucas palavras, são modelos de regressão linear, utilizados para prever o preço correto de um imóvel, com base nas suas características fundamentais. Os detalhes deste tipo de modelo serão explorados no momento oportuno, por hora vamos apenas considerar um dataset deste tipo como exemplo."
   ]
  },
  {
   "cell_type": "code",
   "execution_count": 3,
   "metadata": {},
   "outputs": [],
   "source": [
    "import pandas as pd"
   ]
  },
  {
   "cell_type": "code",
   "execution_count": 6,
   "metadata": {},
   "outputs": [],
   "source": [
    "df_bhosusing = pd.read_csv('boston.csv')"
   ]
  },
  {
   "cell_type": "code",
   "execution_count": 7,
   "metadata": {},
   "outputs": [
    {
     "name": "stdout",
     "output_type": "stream",
     "text": [
      "<class 'pandas.core.frame.DataFrame'>\n",
      "RangeIndex: 506 entries, 0 to 505\n",
      "Data columns (total 14 columns):\n",
      " #   Column   Non-Null Count  Dtype  \n",
      "---  ------   --------------  -----  \n",
      " 0   CRIM     506 non-null    float64\n",
      " 1   ZN       506 non-null    float64\n",
      " 2   INDUS    506 non-null    float64\n",
      " 3   CHAS     506 non-null    int64  \n",
      " 4   NX       506 non-null    float64\n",
      " 5   RM       506 non-null    float64\n",
      " 6   AGE      506 non-null    float64\n",
      " 7   DIS      506 non-null    float64\n",
      " 8   RAD      506 non-null    int64  \n",
      " 9   TAX      506 non-null    float64\n",
      " 10  PTRATIO  506 non-null    float64\n",
      " 11  B        506 non-null    float64\n",
      " 12  LSTAT    506 non-null    float64\n",
      " 13  MEDV     506 non-null    float64\n",
      "dtypes: float64(12), int64(2)\n",
      "memory usage: 55.5 KB\n"
     ]
    }
   ],
   "source": [
    "df_bhosusing.info()"
   ]
  },
  {
   "cell_type": "markdown",
   "metadata": {},
   "source": [
    "O Boston Housing Dataset é obtido através de informuações coletadas pelo U.S Census Service, sobre moradia na área de Boston MA. POssui as seguintes colunas:\n",
    "\n",
    "* CRIM    - Taxa de crimes per capita por bairro\n",
    "* ZN      - Proposrção de zonas residenciais por lotes de 25000 m2\n",
    "* INDUS   - proporção de empresas grandes por cidade\n",
    "* CHAS    - Proximidade com o Rio Charles, variável categórica.\n",
    "* NOX     - Concentração de óxido nítrico\n",
    "* RM      - Média de quartos por habitação\n",
    "* AGE     - Porporção de unidades ocupadas construidas antes de 1940\n",
    "* DIS     - distância ponderada para cinco regiões empresariais de boston\n",
    "* RAD     - Índice de acessibilidade a autoestradas radiais\n",
    "* TAX     - Percentual de impostos\n",
    "* PTRATIO - relação professor/aluno da cidade\n",
    "* B       - Proporção de Negros por bairro (OBS)\n",
    "* LSTAT   - Proporção de Adultos sem nível superior ou com profissões braçais.(OBS)\n",
    "* MEDV    - Valor médio das unidades ocupadas."
   ]
  },
  {
   "cell_type": "code",
   "execution_count": 14,
   "metadata": {},
   "outputs": [
    {
     "data": {
      "text/html": [
       "<div>\n",
       "<style scoped>\n",
       "    .dataframe tbody tr th:only-of-type {\n",
       "        vertical-align: middle;\n",
       "    }\n",
       "\n",
       "    .dataframe tbody tr th {\n",
       "        vertical-align: top;\n",
       "    }\n",
       "\n",
       "    .dataframe thead th {\n",
       "        text-align: right;\n",
       "    }\n",
       "</style>\n",
       "<table border=\"1\" class=\"dataframe\">\n",
       "  <thead>\n",
       "    <tr style=\"text-align: right;\">\n",
       "      <th></th>\n",
       "      <th>CRIM</th>\n",
       "      <th>ZN</th>\n",
       "      <th>INDUS</th>\n",
       "      <th>CHAS</th>\n",
       "      <th>NX</th>\n",
       "      <th>RM</th>\n",
       "      <th>AGE</th>\n",
       "      <th>DIS</th>\n",
       "      <th>RAD</th>\n",
       "      <th>TAX</th>\n",
       "      <th>PTRATIO</th>\n",
       "      <th>B</th>\n",
       "      <th>LSTAT</th>\n",
       "      <th>MEDV</th>\n",
       "    </tr>\n",
       "  </thead>\n",
       "  <tbody>\n",
       "    <tr>\n",
       "      <th>0</th>\n",
       "      <td>0.00632</td>\n",
       "      <td>18.0</td>\n",
       "      <td>2.31</td>\n",
       "      <td>0</td>\n",
       "      <td>0.538</td>\n",
       "      <td>6.575</td>\n",
       "      <td>65.2</td>\n",
       "      <td>4.0900</td>\n",
       "      <td>1</td>\n",
       "      <td>296.0</td>\n",
       "      <td>15.3</td>\n",
       "      <td>396.90</td>\n",
       "      <td>4.98</td>\n",
       "      <td>24.0</td>\n",
       "    </tr>\n",
       "    <tr>\n",
       "      <th>1</th>\n",
       "      <td>0.02731</td>\n",
       "      <td>0.0</td>\n",
       "      <td>7.07</td>\n",
       "      <td>0</td>\n",
       "      <td>0.469</td>\n",
       "      <td>6.421</td>\n",
       "      <td>78.9</td>\n",
       "      <td>4.9671</td>\n",
       "      <td>2</td>\n",
       "      <td>242.0</td>\n",
       "      <td>17.8</td>\n",
       "      <td>396.90</td>\n",
       "      <td>9.14</td>\n",
       "      <td>21.6</td>\n",
       "    </tr>\n",
       "    <tr>\n",
       "      <th>2</th>\n",
       "      <td>0.02729</td>\n",
       "      <td>0.0</td>\n",
       "      <td>7.07</td>\n",
       "      <td>0</td>\n",
       "      <td>0.469</td>\n",
       "      <td>7.185</td>\n",
       "      <td>61.1</td>\n",
       "      <td>4.9671</td>\n",
       "      <td>2</td>\n",
       "      <td>242.0</td>\n",
       "      <td>17.8</td>\n",
       "      <td>392.83</td>\n",
       "      <td>4.03</td>\n",
       "      <td>34.7</td>\n",
       "    </tr>\n",
       "    <tr>\n",
       "      <th>3</th>\n",
       "      <td>0.03237</td>\n",
       "      <td>0.0</td>\n",
       "      <td>2.18</td>\n",
       "      <td>0</td>\n",
       "      <td>0.458</td>\n",
       "      <td>6.998</td>\n",
       "      <td>45.8</td>\n",
       "      <td>6.0622</td>\n",
       "      <td>3</td>\n",
       "      <td>222.0</td>\n",
       "      <td>18.7</td>\n",
       "      <td>394.63</td>\n",
       "      <td>2.94</td>\n",
       "      <td>33.4</td>\n",
       "    </tr>\n",
       "    <tr>\n",
       "      <th>4</th>\n",
       "      <td>0.06905</td>\n",
       "      <td>0.0</td>\n",
       "      <td>2.18</td>\n",
       "      <td>0</td>\n",
       "      <td>0.458</td>\n",
       "      <td>7.147</td>\n",
       "      <td>54.2</td>\n",
       "      <td>6.0622</td>\n",
       "      <td>3</td>\n",
       "      <td>222.0</td>\n",
       "      <td>18.7</td>\n",
       "      <td>396.90</td>\n",
       "      <td>5.33</td>\n",
       "      <td>36.2</td>\n",
       "    </tr>\n",
       "    <tr>\n",
       "      <th>...</th>\n",
       "      <td>...</td>\n",
       "      <td>...</td>\n",
       "      <td>...</td>\n",
       "      <td>...</td>\n",
       "      <td>...</td>\n",
       "      <td>...</td>\n",
       "      <td>...</td>\n",
       "      <td>...</td>\n",
       "      <td>...</td>\n",
       "      <td>...</td>\n",
       "      <td>...</td>\n",
       "      <td>...</td>\n",
       "      <td>...</td>\n",
       "      <td>...</td>\n",
       "    </tr>\n",
       "    <tr>\n",
       "      <th>501</th>\n",
       "      <td>0.06263</td>\n",
       "      <td>0.0</td>\n",
       "      <td>11.93</td>\n",
       "      <td>0</td>\n",
       "      <td>0.573</td>\n",
       "      <td>6.593</td>\n",
       "      <td>69.1</td>\n",
       "      <td>2.4786</td>\n",
       "      <td>1</td>\n",
       "      <td>273.0</td>\n",
       "      <td>21.0</td>\n",
       "      <td>391.99</td>\n",
       "      <td>9.67</td>\n",
       "      <td>22.4</td>\n",
       "    </tr>\n",
       "    <tr>\n",
       "      <th>502</th>\n",
       "      <td>0.04527</td>\n",
       "      <td>0.0</td>\n",
       "      <td>11.93</td>\n",
       "      <td>0</td>\n",
       "      <td>0.573</td>\n",
       "      <td>6.120</td>\n",
       "      <td>76.7</td>\n",
       "      <td>2.2875</td>\n",
       "      <td>1</td>\n",
       "      <td>273.0</td>\n",
       "      <td>21.0</td>\n",
       "      <td>396.90</td>\n",
       "      <td>9.08</td>\n",
       "      <td>20.6</td>\n",
       "    </tr>\n",
       "    <tr>\n",
       "      <th>503</th>\n",
       "      <td>0.06076</td>\n",
       "      <td>0.0</td>\n",
       "      <td>11.93</td>\n",
       "      <td>0</td>\n",
       "      <td>0.573</td>\n",
       "      <td>6.976</td>\n",
       "      <td>91.0</td>\n",
       "      <td>2.1675</td>\n",
       "      <td>1</td>\n",
       "      <td>273.0</td>\n",
       "      <td>21.0</td>\n",
       "      <td>396.90</td>\n",
       "      <td>5.64</td>\n",
       "      <td>23.9</td>\n",
       "    </tr>\n",
       "    <tr>\n",
       "      <th>504</th>\n",
       "      <td>0.10959</td>\n",
       "      <td>0.0</td>\n",
       "      <td>11.93</td>\n",
       "      <td>0</td>\n",
       "      <td>0.573</td>\n",
       "      <td>6.794</td>\n",
       "      <td>89.3</td>\n",
       "      <td>2.3889</td>\n",
       "      <td>1</td>\n",
       "      <td>273.0</td>\n",
       "      <td>21.0</td>\n",
       "      <td>393.45</td>\n",
       "      <td>6.48</td>\n",
       "      <td>22.0</td>\n",
       "    </tr>\n",
       "    <tr>\n",
       "      <th>505</th>\n",
       "      <td>0.04741</td>\n",
       "      <td>0.0</td>\n",
       "      <td>11.93</td>\n",
       "      <td>0</td>\n",
       "      <td>0.573</td>\n",
       "      <td>6.030</td>\n",
       "      <td>80.8</td>\n",
       "      <td>2.5050</td>\n",
       "      <td>1</td>\n",
       "      <td>273.0</td>\n",
       "      <td>21.0</td>\n",
       "      <td>396.90</td>\n",
       "      <td>7.88</td>\n",
       "      <td>11.9</td>\n",
       "    </tr>\n",
       "  </tbody>\n",
       "</table>\n",
       "<p>506 rows × 14 columns</p>\n",
       "</div>"
      ],
      "text/plain": [
       "        CRIM    ZN  INDUS  CHAS     NX     RM   AGE     DIS  RAD    TAX  \\\n",
       "0    0.00632  18.0   2.31     0  0.538  6.575  65.2  4.0900    1  296.0   \n",
       "1    0.02731   0.0   7.07     0  0.469  6.421  78.9  4.9671    2  242.0   \n",
       "2    0.02729   0.0   7.07     0  0.469  7.185  61.1  4.9671    2  242.0   \n",
       "3    0.03237   0.0   2.18     0  0.458  6.998  45.8  6.0622    3  222.0   \n",
       "4    0.06905   0.0   2.18     0  0.458  7.147  54.2  6.0622    3  222.0   \n",
       "..       ...   ...    ...   ...    ...    ...   ...     ...  ...    ...   \n",
       "501  0.06263   0.0  11.93     0  0.573  6.593  69.1  2.4786    1  273.0   \n",
       "502  0.04527   0.0  11.93     0  0.573  6.120  76.7  2.2875    1  273.0   \n",
       "503  0.06076   0.0  11.93     0  0.573  6.976  91.0  2.1675    1  273.0   \n",
       "504  0.10959   0.0  11.93     0  0.573  6.794  89.3  2.3889    1  273.0   \n",
       "505  0.04741   0.0  11.93     0  0.573  6.030  80.8  2.5050    1  273.0   \n",
       "\n",
       "     PTRATIO       B  LSTAT  MEDV  \n",
       "0       15.3  396.90   4.98  24.0  \n",
       "1       17.8  396.90   9.14  21.6  \n",
       "2       17.8  392.83   4.03  34.7  \n",
       "3       18.7  394.63   2.94  33.4  \n",
       "4       18.7  396.90   5.33  36.2  \n",
       "..       ...     ...    ...   ...  \n",
       "501     21.0  391.99   9.67  22.4  \n",
       "502     21.0  396.90   9.08  20.6  \n",
       "503     21.0  396.90   5.64  23.9  \n",
       "504     21.0  393.45   6.48  22.0  \n",
       "505     21.0  396.90   7.88  11.9  \n",
       "\n",
       "[506 rows x 14 columns]"
      ]
     },
     "execution_count": 14,
     "metadata": {},
     "output_type": "execute_result"
    }
   ],
   "source": [
    "df_bhosusing"
   ]
  },
  {
   "cell_type": "code",
   "execution_count": 8,
   "metadata": {},
   "outputs": [],
   "source": [
    "df_bhosusing.drop([\"B\",\"LSTAT\"],axis=1,inplace=True)"
   ]
  },
  {
   "cell_type": "code",
   "execution_count": 9,
   "metadata": {},
   "outputs": [
    {
     "name": "stdout",
     "output_type": "stream",
     "text": [
      "<class 'pandas.core.frame.DataFrame'>\n",
      "RangeIndex: 506 entries, 0 to 505\n",
      "Data columns (total 12 columns):\n",
      " #   Column   Non-Null Count  Dtype  \n",
      "---  ------   --------------  -----  \n",
      " 0   CRIM     506 non-null    float64\n",
      " 1   ZN       506 non-null    float64\n",
      " 2   INDUS    506 non-null    float64\n",
      " 3   CHAS     506 non-null    int64  \n",
      " 4   NX       506 non-null    float64\n",
      " 5   RM       506 non-null    float64\n",
      " 6   AGE      506 non-null    float64\n",
      " 7   DIS      506 non-null    float64\n",
      " 8   RAD      506 non-null    int64  \n",
      " 9   TAX      506 non-null    float64\n",
      " 10  PTRATIO  506 non-null    float64\n",
      " 11  MEDV     506 non-null    float64\n",
      "dtypes: float64(10), int64(2)\n",
      "memory usage: 47.6 KB\n"
     ]
    }
   ],
   "source": [
    "df_bhosusing.info()"
   ]
  },
  {
   "cell_type": "code",
   "execution_count": 17,
   "metadata": {},
   "outputs": [
    {
     "data": {
      "text/html": [
       "<div>\n",
       "<style scoped>\n",
       "    .dataframe tbody tr th:only-of-type {\n",
       "        vertical-align: middle;\n",
       "    }\n",
       "\n",
       "    .dataframe tbody tr th {\n",
       "        vertical-align: top;\n",
       "    }\n",
       "\n",
       "    .dataframe thead th {\n",
       "        text-align: right;\n",
       "    }\n",
       "</style>\n",
       "<table border=\"1\" class=\"dataframe\">\n",
       "  <thead>\n",
       "    <tr style=\"text-align: right;\">\n",
       "      <th></th>\n",
       "      <th>CRIM</th>\n",
       "      <th>ZN</th>\n",
       "      <th>INDUS</th>\n",
       "      <th>CHAS</th>\n",
       "      <th>NX</th>\n",
       "      <th>RM</th>\n",
       "      <th>AGE</th>\n",
       "      <th>DIS</th>\n",
       "      <th>RAD</th>\n",
       "      <th>TAX</th>\n",
       "      <th>PTRATIO</th>\n",
       "      <th>MEDV</th>\n",
       "    </tr>\n",
       "  </thead>\n",
       "  <tbody>\n",
       "    <tr>\n",
       "      <th>count</th>\n",
       "      <td>506.000000</td>\n",
       "      <td>506.000000</td>\n",
       "      <td>506.000000</td>\n",
       "      <td>506.000000</td>\n",
       "      <td>506.000000</td>\n",
       "      <td>506.000000</td>\n",
       "      <td>506.000000</td>\n",
       "      <td>506.000000</td>\n",
       "      <td>506.000000</td>\n",
       "      <td>506.000000</td>\n",
       "      <td>506.000000</td>\n",
       "      <td>506.000000</td>\n",
       "    </tr>\n",
       "    <tr>\n",
       "      <th>mean</th>\n",
       "      <td>3.613524</td>\n",
       "      <td>11.363636</td>\n",
       "      <td>11.136779</td>\n",
       "      <td>0.069170</td>\n",
       "      <td>0.554695</td>\n",
       "      <td>6.284634</td>\n",
       "      <td>68.574901</td>\n",
       "      <td>3.795043</td>\n",
       "      <td>9.549407</td>\n",
       "      <td>408.237154</td>\n",
       "      <td>18.455534</td>\n",
       "      <td>22.532806</td>\n",
       "    </tr>\n",
       "    <tr>\n",
       "      <th>std</th>\n",
       "      <td>8.601545</td>\n",
       "      <td>23.322453</td>\n",
       "      <td>6.860353</td>\n",
       "      <td>0.253994</td>\n",
       "      <td>0.115878</td>\n",
       "      <td>0.702617</td>\n",
       "      <td>28.148861</td>\n",
       "      <td>2.105710</td>\n",
       "      <td>8.707259</td>\n",
       "      <td>168.537116</td>\n",
       "      <td>2.164946</td>\n",
       "      <td>9.197104</td>\n",
       "    </tr>\n",
       "    <tr>\n",
       "      <th>min</th>\n",
       "      <td>0.006320</td>\n",
       "      <td>0.000000</td>\n",
       "      <td>0.460000</td>\n",
       "      <td>0.000000</td>\n",
       "      <td>0.385000</td>\n",
       "      <td>3.561000</td>\n",
       "      <td>2.900000</td>\n",
       "      <td>1.129600</td>\n",
       "      <td>1.000000</td>\n",
       "      <td>187.000000</td>\n",
       "      <td>12.600000</td>\n",
       "      <td>5.000000</td>\n",
       "    </tr>\n",
       "    <tr>\n",
       "      <th>25%</th>\n",
       "      <td>0.082045</td>\n",
       "      <td>0.000000</td>\n",
       "      <td>5.190000</td>\n",
       "      <td>0.000000</td>\n",
       "      <td>0.449000</td>\n",
       "      <td>5.885500</td>\n",
       "      <td>45.025000</td>\n",
       "      <td>2.100175</td>\n",
       "      <td>4.000000</td>\n",
       "      <td>279.000000</td>\n",
       "      <td>17.400000</td>\n",
       "      <td>17.025000</td>\n",
       "    </tr>\n",
       "    <tr>\n",
       "      <th>50%</th>\n",
       "      <td>0.256510</td>\n",
       "      <td>0.000000</td>\n",
       "      <td>9.690000</td>\n",
       "      <td>0.000000</td>\n",
       "      <td>0.538000</td>\n",
       "      <td>6.208500</td>\n",
       "      <td>77.500000</td>\n",
       "      <td>3.207450</td>\n",
       "      <td>5.000000</td>\n",
       "      <td>330.000000</td>\n",
       "      <td>19.050000</td>\n",
       "      <td>21.200000</td>\n",
       "    </tr>\n",
       "    <tr>\n",
       "      <th>75%</th>\n",
       "      <td>3.677083</td>\n",
       "      <td>12.500000</td>\n",
       "      <td>18.100000</td>\n",
       "      <td>0.000000</td>\n",
       "      <td>0.624000</td>\n",
       "      <td>6.623500</td>\n",
       "      <td>94.075000</td>\n",
       "      <td>5.188425</td>\n",
       "      <td>24.000000</td>\n",
       "      <td>666.000000</td>\n",
       "      <td>20.200000</td>\n",
       "      <td>25.000000</td>\n",
       "    </tr>\n",
       "    <tr>\n",
       "      <th>max</th>\n",
       "      <td>88.976200</td>\n",
       "      <td>100.000000</td>\n",
       "      <td>27.740000</td>\n",
       "      <td>1.000000</td>\n",
       "      <td>0.871000</td>\n",
       "      <td>8.780000</td>\n",
       "      <td>100.000000</td>\n",
       "      <td>12.126500</td>\n",
       "      <td>24.000000</td>\n",
       "      <td>711.000000</td>\n",
       "      <td>22.000000</td>\n",
       "      <td>50.000000</td>\n",
       "    </tr>\n",
       "  </tbody>\n",
       "</table>\n",
       "</div>"
      ],
      "text/plain": [
       "             CRIM          ZN       INDUS        CHAS          NX          RM  \\\n",
       "count  506.000000  506.000000  506.000000  506.000000  506.000000  506.000000   \n",
       "mean     3.613524   11.363636   11.136779    0.069170    0.554695    6.284634   \n",
       "std      8.601545   23.322453    6.860353    0.253994    0.115878    0.702617   \n",
       "min      0.006320    0.000000    0.460000    0.000000    0.385000    3.561000   \n",
       "25%      0.082045    0.000000    5.190000    0.000000    0.449000    5.885500   \n",
       "50%      0.256510    0.000000    9.690000    0.000000    0.538000    6.208500   \n",
       "75%      3.677083   12.500000   18.100000    0.000000    0.624000    6.623500   \n",
       "max     88.976200  100.000000   27.740000    1.000000    0.871000    8.780000   \n",
       "\n",
       "              AGE         DIS         RAD         TAX     PTRATIO        MEDV  \n",
       "count  506.000000  506.000000  506.000000  506.000000  506.000000  506.000000  \n",
       "mean    68.574901    3.795043    9.549407  408.237154   18.455534   22.532806  \n",
       "std     28.148861    2.105710    8.707259  168.537116    2.164946    9.197104  \n",
       "min      2.900000    1.129600    1.000000  187.000000   12.600000    5.000000  \n",
       "25%     45.025000    2.100175    4.000000  279.000000   17.400000   17.025000  \n",
       "50%     77.500000    3.207450    5.000000  330.000000   19.050000   21.200000  \n",
       "75%     94.075000    5.188425   24.000000  666.000000   20.200000   25.000000  \n",
       "max    100.000000   12.126500   24.000000  711.000000   22.000000   50.000000  "
      ]
     },
     "execution_count": 17,
     "metadata": {},
     "output_type": "execute_result"
    }
   ],
   "source": [
    "df_bhosusing.describe()"
   ]
  },
  {
   "cell_type": "code",
   "execution_count": 10,
   "metadata": {},
   "outputs": [],
   "source": [
    "X =df_bhosusing[[\"CRIM\",\"ZN\",\"INDUS\",\"CHAS\",\"NX\",\"RM\",\"AGE\",\"DIS\",\"RAD\",\"TAX\",\"PTRATIO\"]]\n",
    "y = df_bhosusing[[\"MEDV\"]]"
   ]
  },
  {
   "cell_type": "code",
   "execution_count": 43,
   "metadata": {},
   "outputs": [],
   "source": [
    "from sklearn.model_selection import train_test_split\n",
    "from sklearn.metrics import mean_squared_error"
   ]
  },
  {
   "cell_type": "code",
   "execution_count": 12,
   "metadata": {},
   "outputs": [],
   "source": [
    "X_train, X_test, y_train, y_test = train_test_split(X,y, test_size = 0.3, random_state=84)"
   ]
  },
  {
   "cell_type": "code",
   "execution_count": 13,
   "metadata": {},
   "outputs": [],
   "source": [
    "reg_lin = LinearRegression()\n",
    "reg_lin.fit(X_train,y_train)\n",
    "y_pred = reg_lin.predict(X_test)"
   ]
  },
  {
   "cell_type": "code",
   "execution_count": 14,
   "metadata": {},
   "outputs": [
    {
     "data": {
      "text/plain": [
       "5.974702250097556"
      ]
     },
     "execution_count": 14,
     "metadata": {},
     "output_type": "execute_result"
    }
   ],
   "source": [
    "lin_reg_mse = mean_squared_error(y_test,y_pred)\n",
    "lin_reg_rmse = np.sqrt(lin_reg_mse)\n",
    "lin_reg_rmse"
   ]
  },
  {
   "cell_type": "code",
   "execution_count": 15,
   "metadata": {},
   "outputs": [
    {
     "data": {
      "text/plain": [
       "0.5700586961934566"
      ]
     },
     "execution_count": 15,
     "metadata": {},
     "output_type": "execute_result"
    }
   ],
   "source": [
    "reg_lin.score(X_test,y_test)"
   ]
  },
  {
   "cell_type": "markdown",
   "metadata": {},
   "source": [
    "O método \"score\", é equivalente à calcular o $R^2$ de um modelo de regressão. Esta quantidade é chamada de coeficiente de determinação e serve como uma medida do ajuste de um modelo estatístico linear aos valores obserdados de uma variável aleatória. O $R^2$ varia de 0 a 1, logo quanto maior o $R^2$, mais explicativo é o modelo."
   ]
  },
  {
   "cell_type": "markdown",
   "metadata": {},
   "source": [
    "Seja a soma total dos erros quadráticos:\n",
    "\n",
    "$$\n",
    "SQ_{tot} = \\sum_{i=1}^{n}(y_i - \\bar{y})^2\n",
    "$$\n",
    "\n",
    "\n",
    "onde $n$ é o número total de observações.\n",
    "Dado que $y_i$ é o valor real e $\\bar{y}$ é a média das observações. Considerar também, a soma total dos resíduos:\n",
    "\n",
    "$$\n",
    "SQ_{res} = \\sum_{i=1}^{n}(y_i - \\hat{y}_1)^2\n",
    "$$\n",
    "\n",
    "O coeficiente de determinação, representando o percentual da amostra que foi adequadamente descrito pelo modelo apredentado é dado pôr:\n",
    "\n",
    "\n",
    "$$\n",
    "R^2 = 1 - \\frac{SQ_{res}}{SQ_{tot}}\n",
    "$$\n"
   ]
  },
  {
   "cell_type": "markdown",
   "metadata": {},
   "source": [
    "$R^2$ é uma medida da qualidade do fit do modelo. No caso de uma regressão, representa uma medida estatística de como as predições se aproximam da realidade. Valores de $R^2$ fora do intervalo de $0$ e $1$ indicam que o modelo fita os dados pior que a pior solução possível de um preditor usando o método dos mínimos quadrados. Aumentar a quantidade de variáveis de um modelo pode melhorar a qualidade de um modelo, contudo sem necessáriamente ser mais explicativo. Uma maneira de avaliar o impacto da quantidade de variáveis de um modelo é usar o $R^2$ ajustado:\n",
    "\n",
    "$$\n",
    "\\bar{R^2} = 1 -\\frac{n-1}{n-(k+1)}(1-R^2)\n",
    "$$"
   ]
  },
  {
   "cell_type": "markdown",
   "metadata": {},
   "source": [
    "Onde $k+1$ representa o número de variáveis explicativa mais a constante. Note que, incluir mais variáveis com pouco poder explicativo pode prejudicar o real desempenho do modelo, pois aumenta o valor de $k$ sem de fato aumentar o $R^2$."
   ]
  },
  {
   "cell_type": "markdown",
   "metadata": {},
   "source": [
    "Em geral, o desempenho do modelo no conjunto teste depende do conjunto de treino, que deve ser escolhido como uma amostra aleatória do dataset completo. O modelo só deve ser exposto ao conjunto de teste APÓS estarmos satisfeitos com a performance dele no conjunto de treino. Contudo, como evitar que o modelo se ajuste de forma excessiva ao conjunto de treino e não seja capaz de generalizar bem o seu resultado para o conjunto de teste? "
   ]
  },
  {
   "cell_type": "markdown",
   "metadata": {},
   "source": [
    "Muitas vezes, a performance do modelo pode ser tão impactada por uma má escolha do conjunto de treino que este resultado pode não ser representativo da capacidade do modelo de de fato descrever os dados. Outra dificuldade fundamental é que as vezes podemos não ter dados o suficiente para descrever o fenômeno que estamos estudando e treinar modelos com uma baixa variância de dados pode impactar diretamente na capacidade dele para generalizar a solução para dados nunca observados. A solução para esse problema chama-se: Validação Cruzada."
   ]
  },
  {
   "cell_type": "markdown",
   "metadata": {},
   "source": [
    "### I.3) Validação Cruzada"
   ]
  },
  {
   "cell_type": "markdown",
   "metadata": {},
   "source": [
    "A capacidade de generalização de um modelo é avaliada pela performance do modelo em um conjunto de dados apartadado do conjunto de dados usado para o treino do modelo. Este conjunto de dados é chamado de conjunto de teste ou validação. O conjunto de validação é um subconjunto do dataset total e o modelo só deve ser exposto ao conjunto de validação quando estivermos satisfeitos com a performance do modelo no conjunto de teste.\n",
    "Do ponto de vista prático, isso pode ser um problema, dado que data em geral é limitado e mesmo em cenários onde estamos expostos ao chamado \"big data\", nem todo dado estará apropriado ao uso de modelos supervisionados. Então, separá uma parte dos dados para o conjunto de validação pode dimininuir a quantidade de dados disponível para o modelo, afinal de contas quanto mais dados usado no modelo, maior a variância das variáveis independentes a qual o modelo é exposto e logo, com mais chance de ser bom em generalizar para dados nunca vistos e por conseguinte, o modelo será melhor.\n",
    "Esse é um dos primeiros dilemas do machine learning, equilibrar o tamanho dos conjuntos de treino e teste. Uma das possíveis soluções é justamente a validação cruzada.\n",
    "Após a separação inicial em conjunto de treino e teste, podemos aplicar Validação Cruzada de K-Folhas (k-fold cross validation) em que, basicamente, o conjunto de treino é partido em $K$ pedaços e em cada uma das $K$ execuções do treino, usamos $K-1$ pedaços para treino e o pedaço restante para validação, onde alternamos em cada execução, quais serão usados para treino e quais serão usados para validação, de tal forma que os $K$ pedaços são usados um de cada vez para validação.\n"
   ]
  },
  {
   "cell_type": "markdown",
   "metadata": {},
   "source": [
    "![Cross Validation](grid_search_cross_validation.png)"
   ]
  },
  {
   "cell_type": "markdown",
   "metadata": {},
   "source": [
    "Em cada étapa do treino, o modelo é validado em um dos subconjuntos de treino e a performance final do modelo no conjunto de treino é a média da performance em cada uma das K-folhas:\n",
    "\n",
    "$$\n",
    "\\mathbb{E}_{\\mathcal{V}}[R(f,\\mathcal{V})] \\approx \\frac{1}{K}\\sum_{k=1}^KR(f^{(k)},\\mathcal{V}^{(k)}),\n",
    "$$\n",
    "\n",
    "onde $R(f^{(k)},\\mathcal{V}^{(k)})$ é a função custo. \n",
    "Usando a validação cruzada, podemos ter maior visibilidade do poder de generalização do modelo pois tomamos como métrica de validação, a média de diversas execuções, com conjuntos de treino e pré-validação em princípio bastante distintos."
   ]
  },
  {
   "cell_type": "markdown",
   "metadata": {},
   "source": [
    "A validação cruzada per si, não é uma etapa do treinamento, ou seja não há efeito prático sobre os coeficientes a serem determinados. O objetivo geral da técnica é que possamos tomar uma decisão sobre usar ou não o presente modelo com base no resultado médio das execuções. Após tomada a decisão, o modelo é treinando usando todo o conjunto de treino e finalmente, validado com o conjunto de teste. \n",
    "O objetivo de usar a validação cruzada é simplesmente expor o modelo a um conjunto \"maior\" de dados, e tomar a decisão sobre o prosseguimento ou não do uso do presente modelo, de tal forma que o conjunto de teste só é usado na última etapa de construção do modelo."
   ]
  },
  {
   "cell_type": "code",
   "execution_count": 42,
   "metadata": {},
   "outputs": [],
   "source": [
    "from sklearn.model_selection import cross_val_score #Importa a ferramenta que realiza a validação cruzada.\n",
    "from sklearn.model_selection import KFold #Cria as folheações com o conjunto de dados de treino"
   ]
  },
  {
   "cell_type": "code",
   "execution_count": 17,
   "metadata": {},
   "outputs": [
    {
     "data": {
      "text/plain": [
       "array([0.69143285, 0.53879385, 0.73062628, 0.77068484, 0.65058549])"
      ]
     },
     "execution_count": 17,
     "metadata": {},
     "output_type": "execute_result"
    }
   ],
   "source": [
    "# k-fold CV \n",
    "lm = LinearRegression()\n",
    "scores_1 = cross_val_score(lm, X_train, y_train, scoring='r2', cv=5)\n",
    "scores_1    "
   ]
  },
  {
   "cell_type": "code",
   "execution_count": 18,
   "metadata": {},
   "outputs": [
    {
     "data": {
      "text/plain": [
       "0.676424662992724"
      ]
     },
     "execution_count": 18,
     "metadata": {},
     "output_type": "execute_result"
    }
   ],
   "source": [
    "cv_score_final_1 = np.mean(scores_1)\n",
    "cv_score_final_1"
   ]
  },
  {
   "cell_type": "code",
   "execution_count": 20,
   "metadata": {},
   "outputs": [
    {
     "data": {
      "text/plain": [
       "array([0.79495458, 0.54977068, 0.65550416, 0.52470379, 0.69770115])"
      ]
     },
     "execution_count": 20,
     "metadata": {},
     "output_type": "execute_result"
    }
   ],
   "source": [
    "# the other way of doing the same thing (more explicit)\n",
    "\n",
    "# create a KFold object with 5 splits \n",
    "folds = KFold(n_splits = 5, shuffle = True, random_state = 100)\n",
    "scores_2 = cross_val_score(lm, X_train, y_train, scoring='r2', cv=folds)\n",
    "scores_2   "
   ]
  },
  {
   "cell_type": "code",
   "execution_count": 21,
   "metadata": {},
   "outputs": [
    {
     "data": {
      "text/plain": [
       "0.6445268735326308"
      ]
     },
     "execution_count": 21,
     "metadata": {},
     "output_type": "execute_result"
    }
   ],
   "source": [
    "cv_score_final_2 = np.mean(scores_2)\n",
    "cv_score_final_2"
   ]
  },
  {
   "cell_type": "code",
   "execution_count": 22,
   "metadata": {},
   "outputs": [
    {
     "data": {
      "text/plain": [
       "array([-31.1014161 , -43.09664699, -18.863881  , -17.33736174,\n",
       "       -28.45252369])"
      ]
     },
     "execution_count": 22,
     "metadata": {},
     "output_type": "execute_result"
    }
   ],
   "source": [
    "# can tune other metrics, such as MSE\n",
    "nrmse = cross_val_score(lm, X_train, y_train, scoring='neg_mean_squared_error', cv=5)\n",
    "nrmse"
   ]
  },
  {
   "cell_type": "code",
   "execution_count": 23,
   "metadata": {},
   "outputs": [
    {
     "data": {
      "text/plain": [
       "5.269759567961829"
      ]
     },
     "execution_count": 23,
     "metadata": {},
     "output_type": "execute_result"
    }
   ],
   "source": [
    "cv_rmse = np.sqrt(np.mean(-nrmse))\n",
    "cv_rmse"
   ]
  },
  {
   "cell_type": "code",
   "execution_count": 24,
   "metadata": {},
   "outputs": [
    {
     "name": "stdout",
     "output_type": "stream",
     "text": [
      "0.5700586961934566\n"
     ]
    }
   ],
   "source": [
    "# final model\n",
    "import sklearn\n",
    "\n",
    "lm = LinearRegression()\n",
    "lm.fit(X_train, y_train)\n",
    "# predict prices of X_test\n",
    "y_pred = lm.predict(X_test)\n",
    "r2 = sklearn.metrics.r2_score(y_test, y_pred)\n",
    "print(r2)"
   ]
  },
  {
   "cell_type": "code",
   "execution_count": 26,
   "metadata": {},
   "outputs": [],
   "source": [
    "import matplotlib.lines as mlines\n",
    "import matplotlib.transforms as mtransforms"
   ]
  },
  {
   "cell_type": "code",
   "execution_count": 30,
   "metadata": {},
   "outputs": [
    {
     "data": {
      "image/png": "[encoded data removed]",
      "text/plain": [
       "<Figure size 432x288 with 1 Axes>"
      ]
     },
     "metadata": {
      "needs_background": "light"
     },
     "output_type": "display_data"
    }
   ],
   "source": [
    "# Place an orange \"X\" on the point with the best Sharpe ratio\n",
    "fig, ax = plt.subplots()\n",
    "plt.scatter(x=y_test, y=y_pred,alpha=0.5,color='green')\n",
    "line = mlines.Line2D([0, 1], [0, 1], color='black')\n",
    "transform = ax.transAxes\n",
    "line.set_transform(transform)\n",
    "ax.add_line(line)\n",
    "plt.grid()\n",
    "plt.xlabel('Target')\n",
    "plt.ylabel('Prediction')\n",
    "plt.show()"
   ]
  },
  {
   "cell_type": "code",
   "execution_count": 31,
   "metadata": {},
   "outputs": [
    {
     "data": {
      "text/html": [
       "<div>\n",
       "<style scoped>\n",
       "    .dataframe tbody tr th:only-of-type {\n",
       "        vertical-align: middle;\n",
       "    }\n",
       "\n",
       "    .dataframe tbody tr th {\n",
       "        vertical-align: top;\n",
       "    }\n",
       "\n",
       "    .dataframe thead th {\n",
       "        text-align: right;\n",
       "    }\n",
       "</style>\n",
       "<table border=\"1\" class=\"dataframe\">\n",
       "  <thead>\n",
       "    <tr style=\"text-align: right;\">\n",
       "      <th></th>\n",
       "      <th>Feature</th>\n",
       "      <th>Coefficients</th>\n",
       "    </tr>\n",
       "  </thead>\n",
       "  <tbody>\n",
       "    <tr>\n",
       "      <th>0</th>\n",
       "      <td>CRIM</td>\n",
       "      <td>-0.157179</td>\n",
       "    </tr>\n",
       "    <tr>\n",
       "      <th>1</th>\n",
       "      <td>ZN</td>\n",
       "      <td>0.045671</td>\n",
       "    </tr>\n",
       "    <tr>\n",
       "      <th>2</th>\n",
       "      <td>INDUS</td>\n",
       "      <td>-0.070695</td>\n",
       "    </tr>\n",
       "    <tr>\n",
       "      <th>3</th>\n",
       "      <td>CHAS</td>\n",
       "      <td>4.753674</td>\n",
       "    </tr>\n",
       "    <tr>\n",
       "      <th>4</th>\n",
       "      <td>NX</td>\n",
       "      <td>-18.657057</td>\n",
       "    </tr>\n",
       "    <tr>\n",
       "      <th>5</th>\n",
       "      <td>RM</td>\n",
       "      <td>6.023592</td>\n",
       "    </tr>\n",
       "    <tr>\n",
       "      <th>6</th>\n",
       "      <td>AGE</td>\n",
       "      <td>-0.059370</td>\n",
       "    </tr>\n",
       "    <tr>\n",
       "      <th>7</th>\n",
       "      <td>DIS</td>\n",
       "      <td>-1.545213</td>\n",
       "    </tr>\n",
       "    <tr>\n",
       "      <th>8</th>\n",
       "      <td>RAD</td>\n",
       "      <td>0.207738</td>\n",
       "    </tr>\n",
       "    <tr>\n",
       "      <th>9</th>\n",
       "      <td>TAX</td>\n",
       "      <td>-0.012569</td>\n",
       "    </tr>\n",
       "    <tr>\n",
       "      <th>10</th>\n",
       "      <td>PTRATIO</td>\n",
       "      <td>-0.829505</td>\n",
       "    </tr>\n",
       "  </tbody>\n",
       "</table>\n",
       "</div>"
      ],
      "text/plain": [
       "    Feature  Coefficients\n",
       "0      CRIM     -0.157179\n",
       "1        ZN      0.045671\n",
       "2     INDUS     -0.070695\n",
       "3      CHAS      4.753674\n",
       "4        NX    -18.657057\n",
       "5        RM      6.023592\n",
       "6       AGE     -0.059370\n",
       "7       DIS     -1.545213\n",
       "8       RAD      0.207738\n",
       "9       TAX     -0.012569\n",
       "10  PTRATIO     -0.829505"
      ]
     },
     "execution_count": 31,
     "metadata": {},
     "output_type": "execute_result"
    }
   ],
   "source": [
    "pd.DataFrame({\"Feature\":X.columns,\"Coefficients\":lm.coef_[0]})"
   ]
  },
  {
   "cell_type": "code",
   "execution_count": 48,
   "metadata": {},
   "outputs": [
    {
     "data": {
      "text/plain": [
       "0.5604851044082907"
      ]
     },
     "execution_count": 48,
     "metadata": {},
     "output_type": "execute_result"
    }
   ],
   "source": [
    "r2_adj = 1- (1-lm.score(X_test, y_test))*((len(X)-1)/(len(X)-11-1))\n",
    "r2_adj"
   ]
  },
  {
   "cell_type": "markdown",
   "metadata": {},
   "source": [
    "Observe que cada variável possui coeficientes com ordens de grandeza distintas e pelo plot de predição vs alvo percebemos algumas assimetrias ou alguns exemplos que realmente não conseguiram ser generalizados pelo modelo."
   ]
  },
  {
   "cell_type": "markdown",
   "metadata": {},
   "source": [
    "Podemos buscar resolver esse problema de duas formas:\n",
    "\n",
    "* Tratamento dos dados\n",
    "* Regularização"
   ]
  },
  {
   "cell_type": "markdown",
   "metadata": {},
   "source": [
    "O tratamento de dados busca colocar todos os dados em escalas numéricas próximas, como por exemplo, normalizar todos os dados ou escalonar os dados em valores de 0 a 1. Esse processo é chamado de Feature Engineering(Engenharia de Variáveis)."
   ]
  },
  {
   "cell_type": "markdown",
   "metadata": {},
   "source": [
    "No caso de uma regressão linear, podemos testar desde combinações polinomiais entre as variáveis, ou utilizar alguma transformação não linear como a logarítimica ou a de Box-Cox. Outros esquemas de transformações de variáveis comuns são:\n",
    "\n",
    "* StandardScaler: Mapeia os valores em uma distribuição gaussiana normal com média zero e desvio padrão 1;\n",
    "* MinMaxScaler  : Mapeia os valores das variáveis em um dado intervalo.\n",
    "* Normalizer    : Mapeia os valores em uma distribuição gaussiana unitária."
   ]
  },
  {
   "cell_type": "markdown",
   "metadata": {},
   "source": [
    "### I.4) Regularização"
   ]
  },
  {
   "cell_type": "markdown",
   "metadata": {},
   "source": [
    "Regularização segue por um caminho diferente e busca eliminar um outro problema muito comum, o overfitting, que ocorre quando o modelo se adapta tão bem aos dados de treino que se torna incapaz de generalizar para novos dados. \n",
    "Os coeficientes do modelo são determinados através de um processo de minimização da função custo, que usa apenas os dados de treino, ou seja, não há nenhuma real garantia de que o modelo seja capaz de generalizar para dados nunca antes vistos e isso pode ocorrer devido ao fato que o modelo tenha se adaptado tão bem aos dados de treino que não é capaz de realizar previsões para dados fora deste conjunto(ou que possa ser escrito como uma combinação linear do mesmo)."
   ]
  },
  {
   "cell_type": "markdown",
   "metadata": {},
   "source": [
    "Desta forma, faz-se necessário inserir algum viés no processo de minimizaçlão da função custo, introduzindo um termo de penalização que dificulte que o processo de otimização resulte em um preditor flexível em excesso. Esse processo é chamado de regularização e representa um balanço entre uma solução precisa do problema de minimização e a complexidade do modelo proposto. "
   ]
  },
  {
   "cell_type": "markdown",
   "metadata": {},
   "source": [
    "A regressão linear pelo método dos mínimos quadrados pode ser regularizada incluindo um termo de potência nos parâmetros com um coeficiente variável:\n",
    "$$\n",
    "MSE_{regularized} (\\vec{X},h_{\\vec{\\theta}},\\alpha,n) = \\frac{1}{m_i}\\sum_{i=1}^{m}\\left(\\vec{\\theta}^T\\vec{x}^{(i)} - y^{(i)}\\right)^2 +\\alpha|\\vec{\\theta}|^n\n",
    "$$\n"
   ]
  },
  {
   "cell_type": "markdown",
   "metadata": {},
   "source": [
    "Aqui, nós temos dois problemas: (i) Determinar qual a potência do termo de regularização,(ii) encontrar o valor ótimo de $\\alpha$.Em ambos os casos, temos um problema de ajuste de hiperparâmetros.\n"
   ]
  },
  {
   "cell_type": "markdown",
   "metadata": {},
   "source": [
    "Hiperparâmetros, são parâmetros que dizem respeito à estrutura do modelo e NÃO são determinados pelo processo de treino. Eles devem ser escolhidos antes da etapa de treino e possuem influência direta no sucesso do treino e mais ainda na generalização do modelo, dado que podem ser uma forma de evitar o overfitting. Geralmente, executamos várias rodadas com diferentes hiperparâmetros para designar a melhor combinação deles, que será medida pelo sucesso do treino em obter bons resultados no conjunto de treino, usando validação cruzada."
   ]
  },
  {
   "cell_type": "markdown",
   "metadata": {},
   "source": [
    "No caso da regularização de uma regressão linear, a ordem do termo de regularização é escolhido de acordo com o objetivo da regularização e existem dois casos de regularização da regressão linear:\n",
    "\n",
    "* LASSO (least absolute shrinkage and selection operator): n=1.\n",
    " * A regressão LASSO realiza uma seleção de variáveis e regularização,    buscando aumentar precisão da predição e explicabilidade do modelo. Basicamente, ela busca zerar o coeficiente das variáveis irrelevantes e privilegiar as variáveis mais relevantes.\n",
    "* RIDGE : n = 2\n",
    " * A regressão RIDGE é uma regularização quadrática, logo possui solução analítica, e o principal objetivo é evitar que coeficientes com valores muito discrepantes levem a um overfit.\n",
    " \n",
    "O objetivo aqui além de treinar o modelo, é determinar o valor de $\\alpha$, que tenha as melhores chances de generalização. Um $\\alpha=0$ é um modelo não regularizado e um $\\alpha=1$ pode levar a um underfit, ou seja, um excesso de viés que faz com que o modelo não seja capaz de ajustar nem mesmo o conjunto de treino."
   ]
  },
  {
   "cell_type": "code",
   "execution_count": 32,
   "metadata": {},
   "outputs": [],
   "source": [
    "from sklearn.linear_model import Lasso, Ridge"
   ]
  },
  {
   "cell_type": "code",
   "execution_count": 33,
   "metadata": {},
   "outputs": [
    {
     "data": {
      "text/plain": [
       "0.5478555428943175"
      ]
     },
     "execution_count": 33,
     "metadata": {},
     "output_type": "execute_result"
    }
   ],
   "source": [
    "lasso = Lasso(alpha=.1, random_state=42)\n",
    "lasso.fit(X_train, y_train)\n",
    "lasso_pred = lasso.predict(X_test)\n",
    "lasso.score(X_test, y_test)"
   ]
  },
  {
   "cell_type": "code",
   "execution_count": 43,
   "metadata": {
    "scrolled": true
   },
   "outputs": [
    {
     "data": {
      "image/png": "[encoded data removed]",
      "text/plain": [
       "<Figure size 432x288 with 1 Axes>"
      ]
     },
     "metadata": {
      "needs_background": "light"
     },
     "output_type": "display_data"
    }
   ],
   "source": [
    "#Feature Selection\n",
    "\n",
    "names = X.columns\n",
    "lasso_coef = lasso.fit(X_train,y_train).coef_\n",
    "_ = plt.plot(range(len(names)),lasso_coef)\n",
    "_ = plt.xticks(range(len(names)), names, rotation=60)\n",
    "_ = plt.ylabel('Coefficients')\n",
    "plt.grid()\n",
    "plt.show()"
   ]
  },
  {
   "cell_type": "code",
   "execution_count": 44,
   "metadata": {},
   "outputs": [
    {
     "data": {
      "text/plain": [
       "506"
      ]
     },
     "execution_count": 44,
     "metadata": {},
     "output_type": "execute_result"
    }
   ],
   "source": [
    "len(X)"
   ]
  },
  {
   "cell_type": "code",
   "execution_count": 45,
   "metadata": {},
   "outputs": [
    {
     "data": {
      "text/plain": [
       "0.538721311437637"
      ]
     },
     "execution_count": 45,
     "metadata": {},
     "output_type": "execute_result"
    }
   ],
   "source": [
    "r2_adj = 1- (1-lasso.score(X_test, y_test))*((len(X)-1)/(len(X)-10-1))\n",
    "r2_adj                                       "
   ]
  },
  {
   "cell_type": "code",
   "execution_count": 38,
   "metadata": {},
   "outputs": [
    {
     "data": {
      "text/html": [
       "<div>\n",
       "<style scoped>\n",
       "    .dataframe tbody tr th:only-of-type {\n",
       "        vertical-align: middle;\n",
       "    }\n",
       "\n",
       "    .dataframe tbody tr th {\n",
       "        vertical-align: top;\n",
       "    }\n",
       "\n",
       "    .dataframe thead th {\n",
       "        text-align: right;\n",
       "    }\n",
       "</style>\n",
       "<table border=\"1\" class=\"dataframe\">\n",
       "  <thead>\n",
       "    <tr style=\"text-align: right;\">\n",
       "      <th></th>\n",
       "      <th>Feature</th>\n",
       "      <th>Coefficients</th>\n",
       "    </tr>\n",
       "  </thead>\n",
       "  <tbody>\n",
       "    <tr>\n",
       "      <th>0</th>\n",
       "      <td>CRIM</td>\n",
       "      <td>-0.156673</td>\n",
       "    </tr>\n",
       "    <tr>\n",
       "      <th>1</th>\n",
       "      <td>ZN</td>\n",
       "      <td>0.047034</td>\n",
       "    </tr>\n",
       "    <tr>\n",
       "      <th>2</th>\n",
       "      <td>INDUS</td>\n",
       "      <td>-0.148287</td>\n",
       "    </tr>\n",
       "    <tr>\n",
       "      <th>3</th>\n",
       "      <td>CHAS</td>\n",
       "      <td>2.689395</td>\n",
       "    </tr>\n",
       "    <tr>\n",
       "      <th>4</th>\n",
       "      <td>NX</td>\n",
       "      <td>-0.000000</td>\n",
       "    </tr>\n",
       "    <tr>\n",
       "      <th>5</th>\n",
       "      <td>RM</td>\n",
       "      <td>6.130941</td>\n",
       "    </tr>\n",
       "    <tr>\n",
       "      <th>6</th>\n",
       "      <td>AGE</td>\n",
       "      <td>-0.075301</td>\n",
       "    </tr>\n",
       "    <tr>\n",
       "      <th>7</th>\n",
       "      <td>DIS</td>\n",
       "      <td>-1.228448</td>\n",
       "    </tr>\n",
       "    <tr>\n",
       "      <th>8</th>\n",
       "      <td>RAD</td>\n",
       "      <td>0.175499</td>\n",
       "    </tr>\n",
       "    <tr>\n",
       "      <th>9</th>\n",
       "      <td>TAX</td>\n",
       "      <td>-0.014498</td>\n",
       "    </tr>\n",
       "    <tr>\n",
       "      <th>10</th>\n",
       "      <td>PTRATIO</td>\n",
       "      <td>-0.676594</td>\n",
       "    </tr>\n",
       "  </tbody>\n",
       "</table>\n",
       "</div>"
      ],
      "text/plain": [
       "    Feature  Coefficients\n",
       "0      CRIM     -0.156673\n",
       "1        ZN      0.047034\n",
       "2     INDUS     -0.148287\n",
       "3      CHAS      2.689395\n",
       "4        NX     -0.000000\n",
       "5        RM      6.130941\n",
       "6       AGE     -0.075301\n",
       "7       DIS     -1.228448\n",
       "8       RAD      0.175499\n",
       "9       TAX     -0.014498\n",
       "10  PTRATIO     -0.676594"
      ]
     },
     "execution_count": 38,
     "metadata": {},
     "output_type": "execute_result"
    }
   ],
   "source": [
    "pd.DataFrame({\"Feature\":X.columns,\"Coefficients\":lasso_coef})"
   ]
  },
  {
   "cell_type": "code",
   "execution_count": 41,
   "metadata": {},
   "outputs": [
    {
     "data": {
      "text/plain": [
       "array([11.98350123])"
      ]
     },
     "execution_count": 41,
     "metadata": {},
     "output_type": "execute_result"
    }
   ],
   "source": [
    "lasso.fit(X_train,y_train).intercept_"
   ]
  },
  {
   "cell_type": "code",
   "execution_count": 39,
   "metadata": {},
   "outputs": [
    {
     "data": {
      "text/plain": [
       "0.5689563666311136"
      ]
     },
     "execution_count": 39,
     "metadata": {},
     "output_type": "execute_result"
    }
   ],
   "source": [
    "ridge = Ridge(alpha=.1, random_state=42)\n",
    "ridge.fit(X_train, y_train)\n",
    "ridge_pred = ridge.predict(X_test)\n",
    "ridge.score(X_test, y_test)"
   ]
  },
  {
   "cell_type": "code",
   "execution_count": 40,
   "metadata": {},
   "outputs": [
    {
     "data": {
      "text/html": [
       "<div>\n",
       "<style scoped>\n",
       "    .dataframe tbody tr th:only-of-type {\n",
       "        vertical-align: middle;\n",
       "    }\n",
       "\n",
       "    .dataframe tbody tr th {\n",
       "        vertical-align: top;\n",
       "    }\n",
       "\n",
       "    .dataframe thead th {\n",
       "        text-align: right;\n",
       "    }\n",
       "</style>\n",
       "<table border=\"1\" class=\"dataframe\">\n",
       "  <thead>\n",
       "    <tr style=\"text-align: right;\">\n",
       "      <th></th>\n",
       "      <th>Feature</th>\n",
       "      <th>Coefficients</th>\n",
       "    </tr>\n",
       "  </thead>\n",
       "  <tbody>\n",
       "    <tr>\n",
       "      <th>0</th>\n",
       "      <td>CRIM</td>\n",
       "      <td>-0.157003</td>\n",
       "    </tr>\n",
       "    <tr>\n",
       "      <th>1</th>\n",
       "      <td>ZN</td>\n",
       "      <td>0.045775</td>\n",
       "    </tr>\n",
       "    <tr>\n",
       "      <th>2</th>\n",
       "      <td>INDUS</td>\n",
       "      <td>-0.079102</td>\n",
       "    </tr>\n",
       "    <tr>\n",
       "      <th>3</th>\n",
       "      <td>CHAS</td>\n",
       "      <td>4.699676</td>\n",
       "    </tr>\n",
       "    <tr>\n",
       "      <th>4</th>\n",
       "      <td>NX</td>\n",
       "      <td>-17.084475</td>\n",
       "    </tr>\n",
       "    <tr>\n",
       "      <th>5</th>\n",
       "      <td>RM</td>\n",
       "      <td>6.041934</td>\n",
       "    </tr>\n",
       "    <tr>\n",
       "      <th>6</th>\n",
       "      <td>AGE</td>\n",
       "      <td>-0.060922</td>\n",
       "    </tr>\n",
       "    <tr>\n",
       "      <th>7</th>\n",
       "      <td>DIS</td>\n",
       "      <td>-1.523272</td>\n",
       "    </tr>\n",
       "    <tr>\n",
       "      <th>8</th>\n",
       "      <td>RAD</td>\n",
       "      <td>0.204359</td>\n",
       "    </tr>\n",
       "    <tr>\n",
       "      <th>9</th>\n",
       "      <td>TAX</td>\n",
       "      <td>-0.012660</td>\n",
       "    </tr>\n",
       "    <tr>\n",
       "      <th>10</th>\n",
       "      <td>PTRATIO</td>\n",
       "      <td>-0.815132</td>\n",
       "    </tr>\n",
       "  </tbody>\n",
       "</table>\n",
       "</div>"
      ],
      "text/plain": [
       "    Feature  Coefficients\n",
       "0      CRIM     -0.157003\n",
       "1        ZN      0.045775\n",
       "2     INDUS     -0.079102\n",
       "3      CHAS      4.699676\n",
       "4        NX    -17.084475\n",
       "5        RM      6.041934\n",
       "6       AGE     -0.060922\n",
       "7       DIS     -1.523272\n",
       "8       RAD      0.204359\n",
       "9       TAX     -0.012660\n",
       "10  PTRATIO     -0.815132"
      ]
     },
     "execution_count": 40,
     "metadata": {},
     "output_type": "execute_result"
    }
   ],
   "source": [
    "pd.DataFrame({\"Feature\":X.columns,\"Coefficients\":ridge.coef_[0]})"
   ]
  },
  {
   "cell_type": "code",
   "execution_count": 42,
   "metadata": {},
   "outputs": [
    {
     "data": {
      "text/plain": [
       "array([22.81739075])"
      ]
     },
     "execution_count": 42,
     "metadata": {},
     "output_type": "execute_result"
    }
   ],
   "source": [
    "ridge.fit(X_train,y_train).intercept_"
   ]
  },
  {
   "cell_type": "code",
   "execution_count": 47,
   "metadata": {},
   "outputs": [
    {
     "data": {
      "text/plain": [
       "0.5593582290459764"
      ]
     },
     "execution_count": 47,
     "metadata": {},
     "output_type": "execute_result"
    }
   ],
   "source": [
    "r2_adj = 1- (1-ridge.score(X_test, y_test))*((len(X)-1)/(len(X)-11-1))\n",
    "r2_adj  "
   ]
  },
  {
   "cell_type": "markdown",
   "metadata": {},
   "source": [
    "### I.5) Exemplo: Regressão Logística"
   ]
  },
  {
   "cell_type": "markdown",
   "metadata": {},
   "source": [
    "Outra tarefa típica de machine learning que pode ser largamente implementada usando métodos de regressão é prever uma classe. Um modelo de regressão linear pode ser usado para prever quais as chances(log-odds) de um determiando registro pertencer à uma dada classe. O modelo regressional que realiza esse tipo de tarefa é chamado de Regressão Logística. Se a probabilidade assim estimada, é maior do que $50\\%$, então o modelo predirá que o datapoint pertence à classe 1, caso contrário, predirá que o datapoint pertence a classe 0. Esse problema é chamado de classificação binária e tem como um dos seus problemas mais conhecidos, o cálculo da probabilidade de um empréstimo se tornar um contrato inadimplente."
   ]
  },
  {
   "cell_type": "markdown",
   "metadata": {},
   "source": [
    "A regressão logística fundiona de forma muito similar à regressão linear, computando a soma ponderada das variáveis independentes, acrescido de um termo constante, mas ao invés de exibir diretamente o resultado dessa computação, o dado final ainda é processado através da chamada Funçã Logística:\n",
    "\n",
    "$$\n",
    "\\hat{p} = h_{\\vec{\\theta}}(\\vec{x}) = \\sigma(\\vec{\\theta}^T\\vec{x}),\n",
    "$$\n",
    "\n",
    "onde $\\sigma(\\cdot)$, é a chamada função logística:\n",
    "\n",
    "$$\n",
    "\\sigma(x) = \\frac{1}{1+\\exp(-x)}\n",
    "$$\n",
    "\n"
   ]
  },
  {
   "cell_type": "code",
   "execution_count": 106,
   "metadata": {},
   "outputs": [
    {
     "data": {
      "image/png": "[encoded data removed]",
      "text/plain": [
       "<Figure size 1152x648 with 1 Axes>"
      ]
     },
     "metadata": {
      "needs_background": "light"
     },
     "output_type": "display_data"
    }
   ],
   "source": [
    "x = np.linspace(-10,10,1000)\n",
    "y = 1/(1+np.exp(-x))\n",
    "plt.figure(figsize=(16,9))\n",
    "plt.plot(x,y,label='Logistic Function')\n",
    "plt.grid()\n",
    "plt.xlabel('Feature Value')\n",
    "plt.ylabel('Positive Class Probability')\n",
    "plt.show()"
   ]
  },
  {
   "cell_type": "markdown",
   "metadata": {},
   "source": [
    "Assim como na regressão linear, os parâmetros da regressão logística são determinados minimizando uma dada função custo, nese caso a função custo é chamada de log-loss:\n",
    "\n",
    "$$\n",
    "\\mathcal{J}(\\theta) = -\\frac{1}{m}\\sum_{i=1}^m\\left [ y^{(i)}\\log(\\hat{p}^{(i)}) + (1-y^{(i)})\\log(1-\\hat{p}^{(i)}) \\right]\n",
    "$$\n",
    "\n",
    "Infelizmente, nesse caso não temos uma solução analítica que expressa os parâmetros em termos das variádeis dependentes e dos alvos presentes no conjunto de treino, contudo essa função é convexa, logo pode-se provar que qualquer algorítimo de otimização pode, em um dado tempo, encontrar um mínimo global."
   ]
  },
  {
   "cell_type": "markdown",
   "metadata": {},
   "source": []
  },
  {
   "cell_type": "code",
   "execution_count": 4,
   "metadata": {},
   "outputs": [],
   "source": [
    "base_credit = pd.read_csv('credit_risk_dataset.csv')"
   ]
  },
  {
   "cell_type": "code",
   "execution_count": 5,
   "metadata": {},
   "outputs": [
    {
     "data": {
      "text/html": [
       "<div>\n",
       "<style scoped>\n",
       "    .dataframe tbody tr th:only-of-type {\n",
       "        vertical-align: middle;\n",
       "    }\n",
       "\n",
       "    .dataframe tbody tr th {\n",
       "        vertical-align: top;\n",
       "    }\n",
       "\n",
       "    .dataframe thead th {\n",
       "        text-align: right;\n",
       "    }\n",
       "</style>\n",
       "<table border=\"1\" class=\"dataframe\">\n",
       "  <thead>\n",
       "    <tr style=\"text-align: right;\">\n",
       "      <th></th>\n",
       "      <th>person_age</th>\n",
       "      <th>person_income</th>\n",
       "      <th>person_home_ownership</th>\n",
       "      <th>person_emp_length</th>\n",
       "      <th>loan_intent</th>\n",
       "      <th>loan_grade</th>\n",
       "      <th>loan_amnt</th>\n",
       "      <th>loan_int_rate</th>\n",
       "      <th>loan_status</th>\n",
       "      <th>loan_percent_income</th>\n",
       "      <th>cb_person_default_on_file</th>\n",
       "      <th>cb_person_cred_hist_length</th>\n",
       "    </tr>\n",
       "  </thead>\n",
       "  <tbody>\n",
       "    <tr>\n",
       "      <th>0</th>\n",
       "      <td>22</td>\n",
       "      <td>59000</td>\n",
       "      <td>RENT</td>\n",
       "      <td>123.0</td>\n",
       "      <td>PERSONAL</td>\n",
       "      <td>D</td>\n",
       "      <td>35000</td>\n",
       "      <td>16.02</td>\n",
       "      <td>1</td>\n",
       "      <td>0.59</td>\n",
       "      <td>Y</td>\n",
       "      <td>3</td>\n",
       "    </tr>\n",
       "    <tr>\n",
       "      <th>1</th>\n",
       "      <td>21</td>\n",
       "      <td>9600</td>\n",
       "      <td>OWN</td>\n",
       "      <td>5.0</td>\n",
       "      <td>EDUCATION</td>\n",
       "      <td>B</td>\n",
       "      <td>1000</td>\n",
       "      <td>11.14</td>\n",
       "      <td>0</td>\n",
       "      <td>0.10</td>\n",
       "      <td>N</td>\n",
       "      <td>2</td>\n",
       "    </tr>\n",
       "    <tr>\n",
       "      <th>2</th>\n",
       "      <td>25</td>\n",
       "      <td>9600</td>\n",
       "      <td>MORTGAGE</td>\n",
       "      <td>1.0</td>\n",
       "      <td>MEDICAL</td>\n",
       "      <td>C</td>\n",
       "      <td>5500</td>\n",
       "      <td>12.87</td>\n",
       "      <td>1</td>\n",
       "      <td>0.57</td>\n",
       "      <td>N</td>\n",
       "      <td>3</td>\n",
       "    </tr>\n",
       "    <tr>\n",
       "      <th>3</th>\n",
       "      <td>23</td>\n",
       "      <td>65500</td>\n",
       "      <td>RENT</td>\n",
       "      <td>4.0</td>\n",
       "      <td>MEDICAL</td>\n",
       "      <td>C</td>\n",
       "      <td>35000</td>\n",
       "      <td>15.23</td>\n",
       "      <td>1</td>\n",
       "      <td>0.53</td>\n",
       "      <td>N</td>\n",
       "      <td>2</td>\n",
       "    </tr>\n",
       "    <tr>\n",
       "      <th>4</th>\n",
       "      <td>24</td>\n",
       "      <td>54400</td>\n",
       "      <td>RENT</td>\n",
       "      <td>8.0</td>\n",
       "      <td>MEDICAL</td>\n",
       "      <td>C</td>\n",
       "      <td>35000</td>\n",
       "      <td>14.27</td>\n",
       "      <td>1</td>\n",
       "      <td>0.55</td>\n",
       "      <td>Y</td>\n",
       "      <td>4</td>\n",
       "    </tr>\n",
       "    <tr>\n",
       "      <th>5</th>\n",
       "      <td>21</td>\n",
       "      <td>9900</td>\n",
       "      <td>OWN</td>\n",
       "      <td>2.0</td>\n",
       "      <td>VENTURE</td>\n",
       "      <td>A</td>\n",
       "      <td>2500</td>\n",
       "      <td>7.14</td>\n",
       "      <td>1</td>\n",
       "      <td>0.25</td>\n",
       "      <td>N</td>\n",
       "      <td>2</td>\n",
       "    </tr>\n",
       "    <tr>\n",
       "      <th>6</th>\n",
       "      <td>26</td>\n",
       "      <td>77100</td>\n",
       "      <td>RENT</td>\n",
       "      <td>8.0</td>\n",
       "      <td>EDUCATION</td>\n",
       "      <td>B</td>\n",
       "      <td>35000</td>\n",
       "      <td>12.42</td>\n",
       "      <td>1</td>\n",
       "      <td>0.45</td>\n",
       "      <td>N</td>\n",
       "      <td>3</td>\n",
       "    </tr>\n",
       "    <tr>\n",
       "      <th>7</th>\n",
       "      <td>24</td>\n",
       "      <td>78956</td>\n",
       "      <td>RENT</td>\n",
       "      <td>5.0</td>\n",
       "      <td>MEDICAL</td>\n",
       "      <td>B</td>\n",
       "      <td>35000</td>\n",
       "      <td>11.11</td>\n",
       "      <td>1</td>\n",
       "      <td>0.44</td>\n",
       "      <td>N</td>\n",
       "      <td>4</td>\n",
       "    </tr>\n",
       "    <tr>\n",
       "      <th>8</th>\n",
       "      <td>24</td>\n",
       "      <td>83000</td>\n",
       "      <td>RENT</td>\n",
       "      <td>8.0</td>\n",
       "      <td>PERSONAL</td>\n",
       "      <td>A</td>\n",
       "      <td>35000</td>\n",
       "      <td>8.90</td>\n",
       "      <td>1</td>\n",
       "      <td>0.42</td>\n",
       "      <td>N</td>\n",
       "      <td>2</td>\n",
       "    </tr>\n",
       "    <tr>\n",
       "      <th>9</th>\n",
       "      <td>21</td>\n",
       "      <td>10000</td>\n",
       "      <td>OWN</td>\n",
       "      <td>6.0</td>\n",
       "      <td>VENTURE</td>\n",
       "      <td>D</td>\n",
       "      <td>1600</td>\n",
       "      <td>14.74</td>\n",
       "      <td>1</td>\n",
       "      <td>0.16</td>\n",
       "      <td>N</td>\n",
       "      <td>3</td>\n",
       "    </tr>\n",
       "  </tbody>\n",
       "</table>\n",
       "</div>"
      ],
      "text/plain": [
       "   person_age  person_income person_home_ownership  person_emp_length  \\\n",
       "0          22          59000                  RENT              123.0   \n",
       "1          21           9600                   OWN                5.0   \n",
       "2          25           9600              MORTGAGE                1.0   \n",
       "3          23          65500                  RENT                4.0   \n",
       "4          24          54400                  RENT                8.0   \n",
       "5          21           9900                   OWN                2.0   \n",
       "6          26          77100                  RENT                8.0   \n",
       "7          24          78956                  RENT                5.0   \n",
       "8          24          83000                  RENT                8.0   \n",
       "9          21          10000                   OWN                6.0   \n",
       "\n",
       "  loan_intent loan_grade  loan_amnt  loan_int_rate  loan_status  \\\n",
       "0    PERSONAL          D      35000          16.02            1   \n",
       "1   EDUCATION          B       1000          11.14            0   \n",
       "2     MEDICAL          C       5500          12.87            1   \n",
       "3     MEDICAL          C      35000          15.23            1   \n",
       "4     MEDICAL          C      35000          14.27            1   \n",
       "5     VENTURE          A       2500           7.14            1   \n",
       "6   EDUCATION          B      35000          12.42            1   \n",
       "7     MEDICAL          B      35000          11.11            1   \n",
       "8    PERSONAL          A      35000           8.90            1   \n",
       "9     VENTURE          D       1600          14.74            1   \n",
       "\n",
       "   loan_percent_income cb_person_default_on_file  cb_person_cred_hist_length  \n",
       "0                 0.59                         Y                           3  \n",
       "1                 0.10                         N                           2  \n",
       "2                 0.57                         N                           3  \n",
       "3                 0.53                         N                           2  \n",
       "4                 0.55                         Y                           4  \n",
       "5                 0.25                         N                           2  \n",
       "6                 0.45                         N                           3  \n",
       "7                 0.44                         N                           4  \n",
       "8                 0.42                         N                           2  \n",
       "9                 0.16                         N                           3  "
      ]
     },
     "execution_count": 5,
     "metadata": {},
     "output_type": "execute_result"
    }
   ],
   "source": [
    "base_credit.head(10)"
   ]
  },
  {
   "cell_type": "code",
   "execution_count": 6,
   "metadata": {},
   "outputs": [
    {
     "data": {
      "text/html": [
       "<div>\n",
       "<style scoped>\n",
       "    .dataframe tbody tr th:only-of-type {\n",
       "        vertical-align: middle;\n",
       "    }\n",
       "\n",
       "    .dataframe tbody tr th {\n",
       "        vertical-align: top;\n",
       "    }\n",
       "\n",
       "    .dataframe thead th {\n",
       "        text-align: right;\n",
       "    }\n",
       "</style>\n",
       "<table border=\"1\" class=\"dataframe\">\n",
       "  <thead>\n",
       "    <tr style=\"text-align: right;\">\n",
       "      <th></th>\n",
       "      <th>person_age</th>\n",
       "      <th>person_income</th>\n",
       "      <th>person_home_ownership</th>\n",
       "      <th>person_emp_length</th>\n",
       "      <th>loan_intent</th>\n",
       "      <th>loan_grade</th>\n",
       "      <th>loan_amnt</th>\n",
       "      <th>loan_int_rate</th>\n",
       "      <th>loan_status</th>\n",
       "      <th>loan_percent_income</th>\n",
       "      <th>cb_person_default_on_file</th>\n",
       "      <th>cb_person_cred_hist_length</th>\n",
       "    </tr>\n",
       "  </thead>\n",
       "  <tbody>\n",
       "    <tr>\n",
       "      <th>32571</th>\n",
       "      <td>60</td>\n",
       "      <td>45600</td>\n",
       "      <td>RENT</td>\n",
       "      <td>1.0</td>\n",
       "      <td>VENTURE</td>\n",
       "      <td>B</td>\n",
       "      <td>20000</td>\n",
       "      <td>10.00</td>\n",
       "      <td>1</td>\n",
       "      <td>0.44</td>\n",
       "      <td>N</td>\n",
       "      <td>26</td>\n",
       "    </tr>\n",
       "    <tr>\n",
       "      <th>32572</th>\n",
       "      <td>52</td>\n",
       "      <td>52000</td>\n",
       "      <td>OWN</td>\n",
       "      <td>0.0</td>\n",
       "      <td>PERSONAL</td>\n",
       "      <td>A</td>\n",
       "      <td>9600</td>\n",
       "      <td>8.49</td>\n",
       "      <td>0</td>\n",
       "      <td>0.18</td>\n",
       "      <td>N</td>\n",
       "      <td>22</td>\n",
       "    </tr>\n",
       "    <tr>\n",
       "      <th>32573</th>\n",
       "      <td>56</td>\n",
       "      <td>90000</td>\n",
       "      <td>MORTGAGE</td>\n",
       "      <td>0.0</td>\n",
       "      <td>PERSONAL</td>\n",
       "      <td>A</td>\n",
       "      <td>7200</td>\n",
       "      <td>6.17</td>\n",
       "      <td>0</td>\n",
       "      <td>0.08</td>\n",
       "      <td>N</td>\n",
       "      <td>19</td>\n",
       "    </tr>\n",
       "    <tr>\n",
       "      <th>32574</th>\n",
       "      <td>52</td>\n",
       "      <td>65004</td>\n",
       "      <td>RENT</td>\n",
       "      <td>4.0</td>\n",
       "      <td>PERSONAL</td>\n",
       "      <td>D</td>\n",
       "      <td>20000</td>\n",
       "      <td>15.58</td>\n",
       "      <td>1</td>\n",
       "      <td>0.31</td>\n",
       "      <td>Y</td>\n",
       "      <td>19</td>\n",
       "    </tr>\n",
       "    <tr>\n",
       "      <th>32575</th>\n",
       "      <td>52</td>\n",
       "      <td>64500</td>\n",
       "      <td>RENT</td>\n",
       "      <td>0.0</td>\n",
       "      <td>EDUCATION</td>\n",
       "      <td>B</td>\n",
       "      <td>5000</td>\n",
       "      <td>11.26</td>\n",
       "      <td>0</td>\n",
       "      <td>0.08</td>\n",
       "      <td>N</td>\n",
       "      <td>20</td>\n",
       "    </tr>\n",
       "    <tr>\n",
       "      <th>32576</th>\n",
       "      <td>57</td>\n",
       "      <td>53000</td>\n",
       "      <td>MORTGAGE</td>\n",
       "      <td>1.0</td>\n",
       "      <td>PERSONAL</td>\n",
       "      <td>C</td>\n",
       "      <td>5800</td>\n",
       "      <td>13.16</td>\n",
       "      <td>0</td>\n",
       "      <td>0.11</td>\n",
       "      <td>N</td>\n",
       "      <td>30</td>\n",
       "    </tr>\n",
       "    <tr>\n",
       "      <th>32577</th>\n",
       "      <td>54</td>\n",
       "      <td>120000</td>\n",
       "      <td>MORTGAGE</td>\n",
       "      <td>4.0</td>\n",
       "      <td>PERSONAL</td>\n",
       "      <td>A</td>\n",
       "      <td>17625</td>\n",
       "      <td>7.49</td>\n",
       "      <td>0</td>\n",
       "      <td>0.15</td>\n",
       "      <td>N</td>\n",
       "      <td>19</td>\n",
       "    </tr>\n",
       "    <tr>\n",
       "      <th>32578</th>\n",
       "      <td>65</td>\n",
       "      <td>76000</td>\n",
       "      <td>RENT</td>\n",
       "      <td>3.0</td>\n",
       "      <td>HOMEIMPROVEMENT</td>\n",
       "      <td>B</td>\n",
       "      <td>35000</td>\n",
       "      <td>10.99</td>\n",
       "      <td>1</td>\n",
       "      <td>0.46</td>\n",
       "      <td>N</td>\n",
       "      <td>28</td>\n",
       "    </tr>\n",
       "    <tr>\n",
       "      <th>32579</th>\n",
       "      <td>56</td>\n",
       "      <td>150000</td>\n",
       "      <td>MORTGAGE</td>\n",
       "      <td>5.0</td>\n",
       "      <td>PERSONAL</td>\n",
       "      <td>B</td>\n",
       "      <td>15000</td>\n",
       "      <td>11.48</td>\n",
       "      <td>0</td>\n",
       "      <td>0.10</td>\n",
       "      <td>N</td>\n",
       "      <td>26</td>\n",
       "    </tr>\n",
       "    <tr>\n",
       "      <th>32580</th>\n",
       "      <td>66</td>\n",
       "      <td>42000</td>\n",
       "      <td>RENT</td>\n",
       "      <td>2.0</td>\n",
       "      <td>MEDICAL</td>\n",
       "      <td>B</td>\n",
       "      <td>6475</td>\n",
       "      <td>9.99</td>\n",
       "      <td>0</td>\n",
       "      <td>0.15</td>\n",
       "      <td>N</td>\n",
       "      <td>30</td>\n",
       "    </tr>\n",
       "  </tbody>\n",
       "</table>\n",
       "</div>"
      ],
      "text/plain": [
       "       person_age  person_income person_home_ownership  person_emp_length  \\\n",
       "32571          60          45600                  RENT                1.0   \n",
       "32572          52          52000                   OWN                0.0   \n",
       "32573          56          90000              MORTGAGE                0.0   \n",
       "32574          52          65004                  RENT                4.0   \n",
       "32575          52          64500                  RENT                0.0   \n",
       "32576          57          53000              MORTGAGE                1.0   \n",
       "32577          54         120000              MORTGAGE                4.0   \n",
       "32578          65          76000                  RENT                3.0   \n",
       "32579          56         150000              MORTGAGE                5.0   \n",
       "32580          66          42000                  RENT                2.0   \n",
       "\n",
       "           loan_intent loan_grade  loan_amnt  loan_int_rate  loan_status  \\\n",
       "32571          VENTURE          B      20000          10.00            1   \n",
       "32572         PERSONAL          A       9600           8.49            0   \n",
       "32573         PERSONAL          A       7200           6.17            0   \n",
       "32574         PERSONAL          D      20000          15.58            1   \n",
       "32575        EDUCATION          B       5000          11.26            0   \n",
       "32576         PERSONAL          C       5800          13.16            0   \n",
       "32577         PERSONAL          A      17625           7.49            0   \n",
       "32578  HOMEIMPROVEMENT          B      35000          10.99            1   \n",
       "32579         PERSONAL          B      15000          11.48            0   \n",
       "32580          MEDICAL          B       6475           9.99            0   \n",
       "\n",
       "       loan_percent_income cb_person_default_on_file  \\\n",
       "32571                 0.44                         N   \n",
       "32572                 0.18                         N   \n",
       "32573                 0.08                         N   \n",
       "32574                 0.31                         Y   \n",
       "32575                 0.08                         N   \n",
       "32576                 0.11                         N   \n",
       "32577                 0.15                         N   \n",
       "32578                 0.46                         N   \n",
       "32579                 0.10                         N   \n",
       "32580                 0.15                         N   \n",
       "\n",
       "       cb_person_cred_hist_length  \n",
       "32571                          26  \n",
       "32572                          22  \n",
       "32573                          19  \n",
       "32574                          19  \n",
       "32575                          20  \n",
       "32576                          30  \n",
       "32577                          19  \n",
       "32578                          28  \n",
       "32579                          26  \n",
       "32580                          30  "
      ]
     },
     "execution_count": 6,
     "metadata": {},
     "output_type": "execute_result"
    }
   ],
   "source": [
    "base_credit.tail(10)"
   ]
  },
  {
   "cell_type": "code",
   "execution_count": 9,
   "metadata": {},
   "outputs": [
    {
     "name": "stdout",
     "output_type": "stream",
     "text": [
      "<class 'pandas.core.frame.DataFrame'>\n",
      "RangeIndex: 32581 entries, 0 to 32580\n",
      "Data columns (total 12 columns):\n",
      " #   Column                      Non-Null Count  Dtype  \n",
      "---  ------                      --------------  -----  \n",
      " 0   person_age                  32581 non-null  int64  \n",
      " 1   person_income               32581 non-null  int64  \n",
      " 2   person_home_ownership       32581 non-null  object \n",
      " 3   person_emp_length           31686 non-null  float64\n",
      " 4   loan_intent                 32581 non-null  object \n",
      " 5   loan_grade                  32581 non-null  object \n",
      " 6   loan_amnt                   32581 non-null  int64  \n",
      " 7   loan_int_rate               29465 non-null  float64\n",
      " 8   loan_status                 32581 non-null  int64  \n",
      " 9   loan_percent_income         32581 non-null  float64\n",
      " 10  cb_person_default_on_file   32581 non-null  object \n",
      " 11  cb_person_cred_hist_length  32581 non-null  int64  \n",
      "dtypes: float64(3), int64(5), object(4)\n",
      "memory usage: 3.0+ MB\n"
     ]
    }
   ],
   "source": [
    "base_credit.info()"
   ]
  },
  {
   "cell_type": "markdown",
   "metadata": {},
   "source": [
    "Descrição das Variáveis\n",
    "\n",
    "person_age:\t            Age\n",
    "\n",
    "person_income:\t        Annual Income\n",
    "\n",
    "personhomeownership:\t    Home ownership\n",
    "\n",
    "personemplength:\t        Employment length (in years)\n",
    "\n",
    "loan_intent:\t            Loan intent\n",
    "\n",
    "loan_grade:\t            Loan grade\n",
    "\n",
    "loan_amnt:\t            Loan amount\n",
    "\n",
    "loanintrate:\t            Interest rate\n",
    "\n",
    "loan_status:\t            Loan status (0 is non default 1 is default)\n",
    "\n",
    "loanpercentincome:\t    Percent income\n",
    "\n",
    "cbpersondefaultonfile:\tHistorical default\n",
    "\n",
    "cbpresoncredhistlength:\tCredit history length\n"
   ]
  },
  {
   "cell_type": "code",
   "execution_count": 11,
   "metadata": {},
   "outputs": [
    {
     "data": {
      "text/html": [
       "<div>\n",
       "<style scoped>\n",
       "    .dataframe tbody tr th:only-of-type {\n",
       "        vertical-align: middle;\n",
       "    }\n",
       "\n",
       "    .dataframe tbody tr th {\n",
       "        vertical-align: top;\n",
       "    }\n",
       "\n",
       "    .dataframe thead th {\n",
       "        text-align: right;\n",
       "    }\n",
       "</style>\n",
       "<table border=\"1\" class=\"dataframe\">\n",
       "  <thead>\n",
       "    <tr style=\"text-align: right;\">\n",
       "      <th></th>\n",
       "      <th>person_age</th>\n",
       "      <th>person_income</th>\n",
       "      <th>person_emp_length</th>\n",
       "      <th>loan_amnt</th>\n",
       "      <th>loan_int_rate</th>\n",
       "      <th>loan_status</th>\n",
       "      <th>loan_percent_income</th>\n",
       "      <th>cb_person_cred_hist_length</th>\n",
       "    </tr>\n",
       "  </thead>\n",
       "  <tbody>\n",
       "    <tr>\n",
       "      <th>count</th>\n",
       "      <td>32581.000000</td>\n",
       "      <td>3.258100e+04</td>\n",
       "      <td>31686.000000</td>\n",
       "      <td>32581.000000</td>\n",
       "      <td>29465.000000</td>\n",
       "      <td>32581.000000</td>\n",
       "      <td>32581.000000</td>\n",
       "      <td>32581.000000</td>\n",
       "    </tr>\n",
       "    <tr>\n",
       "      <th>mean</th>\n",
       "      <td>27.734600</td>\n",
       "      <td>6.607485e+04</td>\n",
       "      <td>4.789686</td>\n",
       "      <td>9589.371106</td>\n",
       "      <td>11.011695</td>\n",
       "      <td>0.218164</td>\n",
       "      <td>0.170203</td>\n",
       "      <td>5.804211</td>\n",
       "    </tr>\n",
       "    <tr>\n",
       "      <th>std</th>\n",
       "      <td>6.348078</td>\n",
       "      <td>6.198312e+04</td>\n",
       "      <td>4.142630</td>\n",
       "      <td>6322.086646</td>\n",
       "      <td>3.240459</td>\n",
       "      <td>0.413006</td>\n",
       "      <td>0.106782</td>\n",
       "      <td>4.055001</td>\n",
       "    </tr>\n",
       "    <tr>\n",
       "      <th>min</th>\n",
       "      <td>20.000000</td>\n",
       "      <td>4.000000e+03</td>\n",
       "      <td>0.000000</td>\n",
       "      <td>500.000000</td>\n",
       "      <td>5.420000</td>\n",
       "      <td>0.000000</td>\n",
       "      <td>0.000000</td>\n",
       "      <td>2.000000</td>\n",
       "    </tr>\n",
       "    <tr>\n",
       "      <th>10%</th>\n",
       "      <td>22.000000</td>\n",
       "      <td>2.859000e+04</td>\n",
       "      <td>0.000000</td>\n",
       "      <td>3000.000000</td>\n",
       "      <td>6.910000</td>\n",
       "      <td>0.000000</td>\n",
       "      <td>0.050000</td>\n",
       "      <td>2.000000</td>\n",
       "    </tr>\n",
       "    <tr>\n",
       "      <th>20%</th>\n",
       "      <td>23.000000</td>\n",
       "      <td>3.500000e+04</td>\n",
       "      <td>1.000000</td>\n",
       "      <td>4400.000000</td>\n",
       "      <td>7.510000</td>\n",
       "      <td>0.000000</td>\n",
       "      <td>0.080000</td>\n",
       "      <td>3.000000</td>\n",
       "    </tr>\n",
       "    <tr>\n",
       "      <th>30%</th>\n",
       "      <td>24.000000</td>\n",
       "      <td>4.200000e+04</td>\n",
       "      <td>2.000000</td>\n",
       "      <td>5400.000000</td>\n",
       "      <td>8.900000</td>\n",
       "      <td>0.000000</td>\n",
       "      <td>0.100000</td>\n",
       "      <td>3.000000</td>\n",
       "    </tr>\n",
       "    <tr>\n",
       "      <th>40%</th>\n",
       "      <td>25.000000</td>\n",
       "      <td>4.900000e+04</td>\n",
       "      <td>3.000000</td>\n",
       "      <td>6750.000000</td>\n",
       "      <td>10.250000</td>\n",
       "      <td>0.000000</td>\n",
       "      <td>0.120000</td>\n",
       "      <td>4.000000</td>\n",
       "    </tr>\n",
       "    <tr>\n",
       "      <th>50%</th>\n",
       "      <td>26.000000</td>\n",
       "      <td>5.500000e+04</td>\n",
       "      <td>4.000000</td>\n",
       "      <td>8000.000000</td>\n",
       "      <td>10.990000</td>\n",
       "      <td>0.000000</td>\n",
       "      <td>0.150000</td>\n",
       "      <td>4.000000</td>\n",
       "    </tr>\n",
       "    <tr>\n",
       "      <th>60%</th>\n",
       "      <td>27.000000</td>\n",
       "      <td>6.300000e+04</td>\n",
       "      <td>5.000000</td>\n",
       "      <td>10000.000000</td>\n",
       "      <td>11.860000</td>\n",
       "      <td>0.000000</td>\n",
       "      <td>0.180000</td>\n",
       "      <td>5.000000</td>\n",
       "    </tr>\n",
       "    <tr>\n",
       "      <th>70%</th>\n",
       "      <td>29.000000</td>\n",
       "      <td>7.300000e+04</td>\n",
       "      <td>6.000000</td>\n",
       "      <td>12000.000000</td>\n",
       "      <td>12.870000</td>\n",
       "      <td>0.000000</td>\n",
       "      <td>0.210000</td>\n",
       "      <td>7.000000</td>\n",
       "    </tr>\n",
       "    <tr>\n",
       "      <th>80%</th>\n",
       "      <td>32.000000</td>\n",
       "      <td>8.600000e+04</td>\n",
       "      <td>8.000000</td>\n",
       "      <td>14500.000000</td>\n",
       "      <td>13.920000</td>\n",
       "      <td>1.000000</td>\n",
       "      <td>0.250000</td>\n",
       "      <td>9.000000</td>\n",
       "    </tr>\n",
       "    <tr>\n",
       "      <th>90%</th>\n",
       "      <td>36.000000</td>\n",
       "      <td>1.100040e+05</td>\n",
       "      <td>10.000000</td>\n",
       "      <td>19000.000000</td>\n",
       "      <td>15.298000</td>\n",
       "      <td>1.000000</td>\n",
       "      <td>0.320000</td>\n",
       "      <td>11.000000</td>\n",
       "    </tr>\n",
       "    <tr>\n",
       "      <th>95%</th>\n",
       "      <td>40.000000</td>\n",
       "      <td>1.380000e+05</td>\n",
       "      <td>13.000000</td>\n",
       "      <td>24000.000000</td>\n",
       "      <td>16.320000</td>\n",
       "      <td>1.000000</td>\n",
       "      <td>0.380000</td>\n",
       "      <td>14.000000</td>\n",
       "    </tr>\n",
       "    <tr>\n",
       "      <th>99%</th>\n",
       "      <td>50.000000</td>\n",
       "      <td>2.252000e+05</td>\n",
       "      <td>18.000000</td>\n",
       "      <td>29800.000000</td>\n",
       "      <td>18.620000</td>\n",
       "      <td>1.000000</td>\n",
       "      <td>0.500000</td>\n",
       "      <td>17.000000</td>\n",
       "    </tr>\n",
       "    <tr>\n",
       "      <th>max</th>\n",
       "      <td>144.000000</td>\n",
       "      <td>6.000000e+06</td>\n",
       "      <td>123.000000</td>\n",
       "      <td>35000.000000</td>\n",
       "      <td>23.220000</td>\n",
       "      <td>1.000000</td>\n",
       "      <td>0.830000</td>\n",
       "      <td>30.000000</td>\n",
       "    </tr>\n",
       "  </tbody>\n",
       "</table>\n",
       "</div>"
      ],
      "text/plain": [
       "         person_age  person_income  person_emp_length     loan_amnt  \\\n",
       "count  32581.000000   3.258100e+04       31686.000000  32581.000000   \n",
       "mean      27.734600   6.607485e+04           4.789686   9589.371106   \n",
       "std        6.348078   6.198312e+04           4.142630   6322.086646   \n",
       "min       20.000000   4.000000e+03           0.000000    500.000000   \n",
       "10%       22.000000   2.859000e+04           0.000000   3000.000000   \n",
       "20%       23.000000   3.500000e+04           1.000000   4400.000000   \n",
       "30%       24.000000   4.200000e+04           2.000000   5400.000000   \n",
       "40%       25.000000   4.900000e+04           3.000000   6750.000000   \n",
       "50%       26.000000   5.500000e+04           4.000000   8000.000000   \n",
       "60%       27.000000   6.300000e+04           5.000000  10000.000000   \n",
       "70%       29.000000   7.300000e+04           6.000000  12000.000000   \n",
       "80%       32.000000   8.600000e+04           8.000000  14500.000000   \n",
       "90%       36.000000   1.100040e+05          10.000000  19000.000000   \n",
       "95%       40.000000   1.380000e+05          13.000000  24000.000000   \n",
       "99%       50.000000   2.252000e+05          18.000000  29800.000000   \n",
       "max      144.000000   6.000000e+06         123.000000  35000.000000   \n",
       "\n",
       "       loan_int_rate   loan_status  loan_percent_income  \\\n",
       "count   29465.000000  32581.000000         32581.000000   \n",
       "mean       11.011695      0.218164             0.170203   \n",
       "std         3.240459      0.413006             0.106782   \n",
       "min         5.420000      0.000000             0.000000   \n",
       "10%         6.910000      0.000000             0.050000   \n",
       "20%         7.510000      0.000000             0.080000   \n",
       "30%         8.900000      0.000000             0.100000   \n",
       "40%        10.250000      0.000000             0.120000   \n",
       "50%        10.990000      0.000000             0.150000   \n",
       "60%        11.860000      0.000000             0.180000   \n",
       "70%        12.870000      0.000000             0.210000   \n",
       "80%        13.920000      1.000000             0.250000   \n",
       "90%        15.298000      1.000000             0.320000   \n",
       "95%        16.320000      1.000000             0.380000   \n",
       "99%        18.620000      1.000000             0.500000   \n",
       "max        23.220000      1.000000             0.830000   \n",
       "\n",
       "       cb_person_cred_hist_length  \n",
       "count                32581.000000  \n",
       "mean                     5.804211  \n",
       "std                      4.055001  \n",
       "min                      2.000000  \n",
       "10%                      2.000000  \n",
       "20%                      3.000000  \n",
       "30%                      3.000000  \n",
       "40%                      4.000000  \n",
       "50%                      4.000000  \n",
       "60%                      5.000000  \n",
       "70%                      7.000000  \n",
       "80%                      9.000000  \n",
       "90%                     11.000000  \n",
       "95%                     14.000000  \n",
       "99%                     17.000000  \n",
       "max                     30.000000  "
      ]
     },
     "execution_count": 11,
     "metadata": {},
     "output_type": "execute_result"
    }
   ],
   "source": [
    "base_credit.describe([.1,.2,.3,.4,.5,.6,.7,.8,.9,.95,.99])"
   ]
  },
  {
   "cell_type": "code",
   "execution_count": 12,
   "metadata": {},
   "outputs": [
    {
     "data": {
      "text/plain": [
       "person_age                       0\n",
       "person_income                    0\n",
       "person_home_ownership            0\n",
       "person_emp_length              895\n",
       "loan_intent                      0\n",
       "loan_grade                       0\n",
       "loan_amnt                        0\n",
       "loan_int_rate                 3116\n",
       "loan_status                      0\n",
       "loan_percent_income              0\n",
       "cb_person_default_on_file        0\n",
       "cb_person_cred_hist_length       0\n",
       "dtype: int64"
      ]
     },
     "execution_count": 12,
     "metadata": {},
     "output_type": "execute_result"
    }
   ],
   "source": [
    "base_credit.isnull().sum()"
   ]
  },
  {
   "cell_type": "code",
   "execution_count": 14,
   "metadata": {},
   "outputs": [],
   "source": [
    "base_credit[\"person_emp_length\"].fillna(base_credit[\"person_emp_length\"].median(), inplace=True)"
   ]
  },
  {
   "cell_type": "code",
   "execution_count": 15,
   "metadata": {},
   "outputs": [],
   "source": [
    "base_credit[\"loan_int_rate\"].fillna(base_credit[\"loan_int_rate\"].median(), inplace=True)"
   ]
  },
  {
   "cell_type": "code",
   "execution_count": 16,
   "metadata": {},
   "outputs": [
    {
     "data": {
      "text/plain": [
       "person_age                    0\n",
       "person_income                 0\n",
       "person_home_ownership         0\n",
       "person_emp_length             0\n",
       "loan_intent                   0\n",
       "loan_grade                    0\n",
       "loan_amnt                     0\n",
       "loan_int_rate                 0\n",
       "loan_status                   0\n",
       "loan_percent_income           0\n",
       "cb_person_default_on_file     0\n",
       "cb_person_cred_hist_length    0\n",
       "dtype: int64"
      ]
     },
     "execution_count": 16,
     "metadata": {},
     "output_type": "execute_result"
    }
   ],
   "source": [
    "base_credit.isnull().sum()"
   ]
  },
  {
   "cell_type": "code",
   "execution_count": 17,
   "metadata": {},
   "outputs": [
    {
     "data": {
      "text/plain": [
       "165"
      ]
     },
     "execution_count": 17,
     "metadata": {},
     "output_type": "execute_result"
    }
   ],
   "source": [
    "base_credit.duplicated().sum()"
   ]
  },
  {
   "cell_type": "code",
   "execution_count": 18,
   "metadata": {},
   "outputs": [],
   "source": [
    "base_credit.drop_duplicates(inplace=True)"
   ]
  },
  {
   "cell_type": "code",
   "execution_count": 19,
   "metadata": {},
   "outputs": [],
   "source": [
    "def find_outliers(df, col):\n",
    "    Q1 = df[col].quantile(0.25)\n",
    "    Q3 = df[col].quantile(0.75)\n",
    "    IQR = Q3 - Q1\n",
    "    return df[(df[col] < Q1 - 1.5*IQR) | (df[col] > Q3 + 1.5*IQR)]"
   ]
  },
  {
   "cell_type": "code",
   "execution_count": 20,
   "metadata": {},
   "outputs": [
    {
     "name": "stdout",
     "output_type": "stream",
     "text": [
      "(1491, 12)\n",
      "(1478, 12)\n",
      "(852, 12)\n",
      "(1139, 12)\n"
     ]
    }
   ],
   "source": [
    "likely_to_have_outlier = [\"person_age\",\"person_income\",\"person_emp_length\",\"cb_person_cred_hist_length\"]\n",
    "for col in likely_to_have_outlier:\n",
    "    print(find_outliers(base_credit, col).shape)"
   ]
  },
  {
   "cell_type": "code",
   "execution_count": 21,
   "metadata": {},
   "outputs": [],
   "source": [
    "def remove_outliers(df, col):\n",
    "    Q1 = df[col].quantile(0.25)\n",
    "    Q3 = df[col].quantile(0.75)\n",
    "    IQR = Q3 - Q1\n",
    "    lower_range = Q1 - 1.5*IQR\n",
    "    upper_range = Q3 + 1.5*IQR\n",
    "    df[col] = np.where(df[col]>upper_range, upper_range, df[col])\n",
    "    df[col] = np.where(df[col]<lower_range, lower_range, df[col])\n",
    "    return df"
   ]
  },
  {
   "cell_type": "code",
   "execution_count": 22,
   "metadata": {},
   "outputs": [],
   "source": [
    "for col in likely_to_have_outlier:\n",
    "    remove_outliers(base_credit, col)"
   ]
  },
  {
   "cell_type": "code",
   "execution_count": 24,
   "metadata": {},
   "outputs": [],
   "source": [
    "import seaborn as sns"
   ]
  },
  {
   "cell_type": "code",
   "execution_count": 25,
   "metadata": {},
   "outputs": [
    {
     "data": {
      "image/png": "[encoded data removed]",
      "text/plain": [
       "<Figure size 720x432 with 1 Axes>"
      ]
     },
     "metadata": {
      "needs_background": "light"
     },
     "output_type": "display_data"
    }
   ],
   "source": [
    "plt.figure(figsize=(10,6))\n",
    "sns.barplot(x=base_credit[\"loan_status\"], y=base_credit[\"loan_intent\"])\n",
    "plt.title(\"Relation Between Loan Status and Loan Intents\", size=15)\n",
    "plt.show()"
   ]
  },
  {
   "cell_type": "code",
   "execution_count": 27,
   "metadata": {},
   "outputs": [
    {
     "data": {
      "image/png": "[encoded data removed]",
      "text/plain": [
       "<Figure size 720x432 with 1 Axes>"
      ]
     },
     "metadata": {
      "needs_background": "light"
     },
     "output_type": "display_data"
    }
   ],
   "source": [
    "plt.figure(figsize=(10,6))\n",
    "sns.barplot(x=base_credit[\"person_home_ownership\"], y=base_credit[\"loan_status\"])\n",
    "plt.title(\"Relation Between Loan Status and Home Ownership\", size=15)\n",
    "plt.show()"
   ]
  },
  {
   "cell_type": "code",
   "execution_count": 29,
   "metadata": {},
   "outputs": [
    {
     "data": {
      "image/png": "[encoded data removed]",
      "text/plain": [
       "<Figure size 720x432 with 1 Axes>"
      ]
     },
     "metadata": {
      "needs_background": "light"
     },
     "output_type": "display_data"
    }
   ],
   "source": [
    "plt.figure(figsize=(10,6))\n",
    "sns.barplot(x=base_credit[\"loan_int_rate\"], y=base_credit[\"loan_grade\"],order=['A','B','C','D','E','F','G'])\n",
    "plt.title(\"Loan Interest Rates of Loan Grades\", size=15)\n",
    "plt.show()"
   ]
  },
  {
   "cell_type": "code",
   "execution_count": 30,
   "metadata": {},
   "outputs": [
    {
     "data": {
      "image/png": "[encoded data removed]",
      "text/plain": [
       "<Figure size 432x288 with 1 Axes>"
      ]
     },
     "metadata": {
      "needs_background": "light"
     },
     "output_type": "display_data"
    }
   ],
   "source": [
    "sns.countplot(x = base_credit['loan_status']);"
   ]
  },
  {
   "cell_type": "code",
   "execution_count": 34,
   "metadata": {},
   "outputs": [
    {
     "data": {
      "text/plain": [
       "(array([4835., 7387., 5485., 3975., 2992., 2100., 1563., 1166.,  851.,\n",
       "        2062.]),\n",
       " array([20.  , 22.05, 24.1 , 26.15, 28.2 , 30.25, 32.3 , 34.35, 36.4 ,\n",
       "        38.45, 40.5 ]),\n",
       " <a list of 10 Patch objects>)"
      ]
     },
     "execution_count": 34,
     "metadata": {},
     "output_type": "execute_result"
    },
    {
     "data": {
      "image/png": "[encoded data removed]",
      "text/plain": [
       "<Figure size 432x288 with 1 Axes>"
      ]
     },
     "metadata": {
      "needs_background": "light"
     },
     "output_type": "display_data"
    }
   ],
   "source": [
    "plt.hist(x = base_credit['person_age'])"
   ]
  },
  {
   "cell_type": "code",
   "execution_count": 35,
   "metadata": {},
   "outputs": [
    {
     "data": {
      "text/plain": [
       "(array([ 672., 4162., 6096., 6328., 5259., 3357., 1947., 1450., 1072.,\n",
       "        2073.]),\n",
       " array([  4000. ,  17623.2,  31246.4,  44869.6,  58492.8,  72116. ,\n",
       "         85739.2,  99362.4, 112985.6, 126608.8, 140232. ]),\n",
       " <a list of 10 Patch objects>)"
      ]
     },
     "execution_count": 35,
     "metadata": {},
     "output_type": "execute_result"
    },
    {
     "data": {
      "image/png": "[encoded data removed]",
      "text/plain": [
       "<Figure size 432x288 with 1 Axes>"
      ]
     },
     "metadata": {
      "needs_background": "light"
     },
     "output_type": "display_data"
    }
   ],
   "source": [
    "plt.hist(x = base_credit['person_income'])"
   ]
  },
  {
   "cell_type": "code",
   "execution_count": 36,
   "metadata": {},
   "outputs": [
    {
     "data": {
      "text/plain": [
       "(array([5082., 9386., 7355., 3884., 2860., 1920.,  671.,  921.,  125.,\n",
       "         212.]),\n",
       " array([  500.,  3950.,  7400., 10850., 14300., 17750., 21200., 24650.,\n",
       "        28100., 31550., 35000.]),\n",
       " <a list of 10 Patch objects>)"
      ]
     },
     "execution_count": 36,
     "metadata": {},
     "output_type": "execute_result"
    },
    {
     "data": {
      "image/png": "[encoded data removed]",
      "text/plain": [
       "<Figure size 432x288 with 1 Axes>"
      ]
     },
     "metadata": {
      "needs_background": "light"
     },
     "output_type": "display_data"
    }
   ],
   "source": [
    "plt.hist(x = base_credit['loan_amnt'])"
   ]
  },
  {
   "cell_type": "code",
   "execution_count": 38,
   "metadata": {},
   "outputs": [
    {
     "data": {
      "text/plain": [
       "Index(['person_age', 'person_income', 'person_home_ownership',\n",
       "       'person_emp_length', 'loan_intent', 'loan_grade', 'loan_amnt',\n",
       "       'loan_int_rate', 'loan_status', 'loan_percent_income',\n",
       "       'cb_person_default_on_file', 'cb_person_cred_hist_length'],\n",
       "      dtype='object')"
      ]
     },
     "execution_count": 38,
     "metadata": {},
     "output_type": "execute_result"
    }
   ],
   "source": [
    "base_credit.columns"
   ]
  },
  {
   "cell_type": "code",
   "execution_count": 110,
   "metadata": {},
   "outputs": [],
   "source": [
    "X_credit = base_credit[['person_age', 'person_income', 'person_home_ownership',\n",
    "                        'person_emp_length', 'loan_intent', 'loan_grade', 'loan_amnt',\n",
    "                        'loan_int_rate', 'loan_percent_income',\n",
    "                        'cb_person_default_on_file', 'cb_person_cred_hist_length']]\n",
    "y_credit = base_credit[['loan_status']]\n",
    "y_credit_2 = base_credit['loan_status']"
   ]
  },
  {
   "cell_type": "code",
   "execution_count": 73,
   "metadata": {},
   "outputs": [],
   "source": [
    "X_credit = pd.get_dummies(X_credit)"
   ]
  },
  {
   "cell_type": "code",
   "execution_count": 74,
   "metadata": {},
   "outputs": [],
   "source": [
    "X_credit_train, X_credit_test, y_credit_train, y_credit_test = train_test_split(X_credit,y_credit, test_size = 0.3, random_state=84)"
   ]
  },
  {
   "cell_type": "code",
   "execution_count": 111,
   "metadata": {},
   "outputs": [],
   "source": [
    "X_credit_train_2, X_credit_test_2, y_credit_train_2, y_credit_test_2 = train_test_split(X_credit,y_credit_2, test_size = 0.3, random_state=84)"
   ]
  },
  {
   "cell_type": "code",
   "execution_count": 46,
   "metadata": {},
   "outputs": [],
   "source": [
    "from sklearn.linear_model import LogisticRegression"
   ]
  },
  {
   "cell_type": "code",
   "execution_count": 75,
   "metadata": {},
   "outputs": [
    {
     "data": {
      "text/plain": [
       "LogisticRegression(C=1.0, class_weight=None, dual=False, fit_intercept=True,\n",
       "                   intercept_scaling=1, l1_ratio=None, max_iter=100,\n",
       "                   multi_class='auto', n_jobs=None, penalty='l2',\n",
       "                   random_state=None, solver='lbfgs', tol=0.0001, verbose=0,\n",
       "                   warm_start=False)"
      ]
     },
     "execution_count": 75,
     "metadata": {},
     "output_type": "execute_result"
    }
   ],
   "source": [
    "reg_log = LogisticRegression()\n",
    "reg_log.fit(X_credit_train,y_credit_train)"
   ]
  },
  {
   "cell_type": "code",
   "execution_count": 76,
   "metadata": {},
   "outputs": [
    {
     "data": {
      "text/html": [
       "<div>\n",
       "<style scoped>\n",
       "    .dataframe tbody tr th:only-of-type {\n",
       "        vertical-align: middle;\n",
       "    }\n",
       "\n",
       "    .dataframe tbody tr th {\n",
       "        vertical-align: top;\n",
       "    }\n",
       "\n",
       "    .dataframe thead th {\n",
       "        text-align: right;\n",
       "    }\n",
       "</style>\n",
       "<table border=\"1\" class=\"dataframe\">\n",
       "  <thead>\n",
       "    <tr style=\"text-align: right;\">\n",
       "      <th></th>\n",
       "      <th>Feature</th>\n",
       "      <th>Coefficients</th>\n",
       "    </tr>\n",
       "  </thead>\n",
       "  <tbody>\n",
       "    <tr>\n",
       "      <th>0</th>\n",
       "      <td>person_age</td>\n",
       "      <td>-1.374720e-08</td>\n",
       "    </tr>\n",
       "    <tr>\n",
       "      <th>1</th>\n",
       "      <td>person_income</td>\n",
       "      <td>-4.513306e-05</td>\n",
       "    </tr>\n",
       "    <tr>\n",
       "      <th>2</th>\n",
       "      <td>person_emp_length</td>\n",
       "      <td>-1.820093e-08</td>\n",
       "    </tr>\n",
       "    <tr>\n",
       "      <th>3</th>\n",
       "      <td>loan_amnt</td>\n",
       "      <td>1.233215e-04</td>\n",
       "    </tr>\n",
       "    <tr>\n",
       "      <th>4</th>\n",
       "      <td>loan_int_rate</td>\n",
       "      <td>1.090745e-07</td>\n",
       "    </tr>\n",
       "    <tr>\n",
       "      <th>5</th>\n",
       "      <td>loan_percent_income</td>\n",
       "      <td>3.056158e-09</td>\n",
       "    </tr>\n",
       "    <tr>\n",
       "      <th>6</th>\n",
       "      <td>cb_person_cred_hist_length</td>\n",
       "      <td>-2.823148e-09</td>\n",
       "    </tr>\n",
       "    <tr>\n",
       "      <th>7</th>\n",
       "      <td>person_home_ownership_MORTGAGE</td>\n",
       "      <td>-6.523622e-09</td>\n",
       "    </tr>\n",
       "    <tr>\n",
       "      <th>8</th>\n",
       "      <td>person_home_ownership_OTHER</td>\n",
       "      <td>9.789868e-11</td>\n",
       "    </tr>\n",
       "    <tr>\n",
       "      <th>9</th>\n",
       "      <td>person_home_ownership_OWN</td>\n",
       "      <td>-4.202259e-09</td>\n",
       "    </tr>\n",
       "    <tr>\n",
       "      <th>10</th>\n",
       "      <td>person_home_ownership_RENT</td>\n",
       "      <td>1.016915e-08</td>\n",
       "    </tr>\n",
       "    <tr>\n",
       "      <th>11</th>\n",
       "      <td>loan_intent_DEBTCONSOLIDATION</td>\n",
       "      <td>3.112676e-09</td>\n",
       "    </tr>\n",
       "    <tr>\n",
       "      <th>12</th>\n",
       "      <td>loan_intent_EDUCATION</td>\n",
       "      <td>-2.912914e-09</td>\n",
       "    </tr>\n",
       "    <tr>\n",
       "      <th>13</th>\n",
       "      <td>loan_intent_HOMEIMPROVEMENT</td>\n",
       "      <td>2.408470e-09</td>\n",
       "    </tr>\n",
       "    <tr>\n",
       "      <th>14</th>\n",
       "      <td>loan_intent_MEDICAL</td>\n",
       "      <td>1.854646e-09</td>\n",
       "    </tr>\n",
       "    <tr>\n",
       "      <th>15</th>\n",
       "      <td>loan_intent_PERSONAL</td>\n",
       "      <td>-8.815383e-10</td>\n",
       "    </tr>\n",
       "    <tr>\n",
       "      <th>16</th>\n",
       "      <td>loan_intent_VENTURE</td>\n",
       "      <td>-4.040169e-09</td>\n",
       "    </tr>\n",
       "    <tr>\n",
       "      <th>17</th>\n",
       "      <td>loan_grade_A</td>\n",
       "      <td>-1.085725e-08</td>\n",
       "    </tr>\n",
       "    <tr>\n",
       "      <th>18</th>\n",
       "      <td>loan_grade_B</td>\n",
       "      <td>-5.112868e-09</td>\n",
       "    </tr>\n",
       "    <tr>\n",
       "      <th>19</th>\n",
       "      <td>loan_grade_C</td>\n",
       "      <td>-1.355759e-09</td>\n",
       "    </tr>\n",
       "    <tr>\n",
       "      <th>20</th>\n",
       "      <td>loan_grade_D</td>\n",
       "      <td>1.165405e-08</td>\n",
       "    </tr>\n",
       "    <tr>\n",
       "      <th>21</th>\n",
       "      <td>loan_grade_E</td>\n",
       "      <td>3.698264e-09</td>\n",
       "    </tr>\n",
       "    <tr>\n",
       "      <th>22</th>\n",
       "      <td>loan_grade_F</td>\n",
       "      <td>1.055700e-09</td>\n",
       "    </tr>\n",
       "    <tr>\n",
       "      <th>23</th>\n",
       "      <td>loan_grade_G</td>\n",
       "      <td>4.590364e-10</td>\n",
       "    </tr>\n",
       "    <tr>\n",
       "      <th>24</th>\n",
       "      <td>cb_person_default_on_file_N</td>\n",
       "      <td>-8.094137e-09</td>\n",
       "    </tr>\n",
       "    <tr>\n",
       "      <th>25</th>\n",
       "      <td>cb_person_default_on_file_Y</td>\n",
       "      <td>7.635308e-09</td>\n",
       "    </tr>\n",
       "  </tbody>\n",
       "</table>\n",
       "</div>"
      ],
      "text/plain": [
       "                           Feature  Coefficients\n",
       "0                       person_age -1.374720e-08\n",
       "1                    person_income -4.513306e-05\n",
       "2                person_emp_length -1.820093e-08\n",
       "3                        loan_amnt  1.233215e-04\n",
       "4                    loan_int_rate  1.090745e-07\n",
       "5              loan_percent_income  3.056158e-09\n",
       "6       cb_person_cred_hist_length -2.823148e-09\n",
       "7   person_home_ownership_MORTGAGE -6.523622e-09\n",
       "8      person_home_ownership_OTHER  9.789868e-11\n",
       "9        person_home_ownership_OWN -4.202259e-09\n",
       "10      person_home_ownership_RENT  1.016915e-08\n",
       "11   loan_intent_DEBTCONSOLIDATION  3.112676e-09\n",
       "12           loan_intent_EDUCATION -2.912914e-09\n",
       "13     loan_intent_HOMEIMPROVEMENT  2.408470e-09\n",
       "14             loan_intent_MEDICAL  1.854646e-09\n",
       "15            loan_intent_PERSONAL -8.815383e-10\n",
       "16             loan_intent_VENTURE -4.040169e-09\n",
       "17                    loan_grade_A -1.085725e-08\n",
       "18                    loan_grade_B -5.112868e-09\n",
       "19                    loan_grade_C -1.355759e-09\n",
       "20                    loan_grade_D  1.165405e-08\n",
       "21                    loan_grade_E  3.698264e-09\n",
       "22                    loan_grade_F  1.055700e-09\n",
       "23                    loan_grade_G  4.590364e-10\n",
       "24     cb_person_default_on_file_N -8.094137e-09\n",
       "25     cb_person_default_on_file_Y  7.635308e-09"
      ]
     },
     "execution_count": 76,
     "metadata": {},
     "output_type": "execute_result"
    }
   ],
   "source": [
    "pd.DataFrame({\"Feature\":X_credit.columns,\"Coefficients\":reg_log.coef_[0]})"
   ]
  },
  {
   "cell_type": "code",
   "execution_count": 77,
   "metadata": {},
   "outputs": [],
   "source": [
    "predict_log = reg_log.predict(X_credit_test)"
   ]
  },
  {
   "cell_type": "markdown",
   "metadata": {},
   "source": [
    "O processo de avaliação de um classificador é um pouco mais complexo do que o de um regressor. Contudo, podemos usar um conjunto de critérios que tornam a avaliação menos subjetiva do que a de um regressor. Assim como na regressão linear, a validação cruzada será essencial para teste o nosso modelo antes de expô-lo aos dados de teste."
   ]
  },
  {
   "cell_type": "markdown",
   "metadata": {},
   "source": [
    "![Diagnostics Matrix](diagnostic_test_wiki.jpg)"
   ]
  },
  {
   "cell_type": "markdown",
   "metadata": {},
   "source": [
    "Assim como na regressão linear, vamos usar a validação cruzada como ferramenta de avaliação do modelo no conjunto de treino e por hora, tomar a acurácia como medida de desempenho."
   ]
  },
  {
   "cell_type": "code",
   "execution_count": 120,
   "metadata": {},
   "outputs": [],
   "source": [
    "from sklearn.model_selection import cross_val_score"
   ]
  },
  {
   "cell_type": "code",
   "execution_count": 123,
   "metadata": {},
   "outputs": [
    {
     "data": {
      "text/plain": [
       "array([0.81013216, 0.80696342, 0.80828559, 0.8065227 , 0.81445571,\n",
       "       0.81181137, 0.81181137, 0.81665932, 0.80123402, 0.81181137])"
      ]
     },
     "execution_count": 123,
     "metadata": {},
     "output_type": "execute_result"
    }
   ],
   "source": [
    "acc_reg_log = cross_val_score(reg_log,X_credit_train,y_credit_train, cv=10, scoring='accuracy')\n",
    "acc_reg_log"
   ]
  },
  {
   "cell_type": "markdown",
   "metadata": {},
   "source": [
    "A precisão ou acurácia de um modelo não é a melhor forma de avaliar a sua performance. Pode ser um indicador de desempenho, contudo não é nem de longe a melhor escolha, sobretudo quando se trata de datasets desbalanceados. Uma forma um pouco mais robusta de fazer essa avaliação é utilizar a matriz de confusão. "
   ]
  },
  {
   "cell_type": "markdown",
   "metadata": {},
   "source": [
    "Em poucas palavras, a matriz de confusão conta o número de vezes em que instâncias da classe A são classificadas como pertencendo a classe B.\n",
    "Para utilizar a matriz de confusão, precisamos primeiro realizar predições com o modelo. Contudo, queremos apenas utilizar os dados de teste no final do processo. Então, podemos tomar uma predição ponderada usando validação cruzada sobre o conjunto de treino:"
   ]
  },
  {
   "cell_type": "code",
   "execution_count": 124,
   "metadata": {},
   "outputs": [],
   "source": [
    "from sklearn.model_selection import cross_val_predict"
   ]
  },
  {
   "cell_type": "code",
   "execution_count": 126,
   "metadata": {},
   "outputs": [],
   "source": [
    "y_credit_train_pred = cross_val_predict(reg_log,X_credit_train,y_credit_train, cv=10)"
   ]
  },
  {
   "cell_type": "code",
   "execution_count": 127,
   "metadata": {},
   "outputs": [],
   "source": [
    "from sklearn.metrics import confusion_matrix"
   ]
  },
  {
   "cell_type": "code",
   "execution_count": 128,
   "metadata": {},
   "outputs": [
    {
     "data": {
      "text/plain": [
       "array([[17405,   361],\n",
       "       [ 3951,   974]], dtype=int64)"
      ]
     },
     "execution_count": 128,
     "metadata": {},
     "output_type": "execute_result"
    }
   ],
   "source": [
    "cm=confusion_matrix(y_credit_train,y_credit_train_pred)\n",
    "cm"
   ]
  },
  {
   "cell_type": "markdown",
   "metadata": {},
   "source": [
    "Na matriz de confusão, cada linha representa a classe verdadeira e cada coluna representa a predição. A primeira linha da matriz de confusão considera a classe negativa: 17405 empréstimos não foram a default, ao passo que 361 empréstimos foram errôneamente classificados como tendo ido a default. A segunda linha considera a classe positiva, onde 3951 empréstimos foram erroneamente classificados como não indo a default e 974 foram classificados como de fato indo a default.\n",
    "\n",
    "A matriz de confusão possui grande quantidade de informações, mas as vezes uma métrica mais concisa pode vir a calhar. Duas delas são a precisão(precision) e a recombinação(recall):\n",
    "\n",
    "$$\n",
    "precision = \\frac{TP}{TP+FP},\n",
    "$$\n",
    "\n",
    "$$\n",
    "recall = \\frac{TP}{TP+FN}.\n",
    "$$\n",
    "\n",
    "Que significam a acurácia na predição da classe positiva e a quantidade de classes positivas que foram corretamente preditas, respectivamente.\n",
    "\n",
    "Essas duas métricas podem ser combinadas em uma, o $F_1-Score$:\n",
    "\n",
    "$$ \n",
    "F_1 = 2\\times\\frac{precision\\times recall}{precision + recall}\n",
    "$$\n",
    "\n",
    "Essa métrica, favorece os classificadores que possuem precision e recall muito próximos. Mas isso nem sempre é desejável. A depender da situação, pode ser mais interessante um classificador que tenha uma alta precisão, provendo resultados corretos, ainda que rejeite muitos membros da classe positiva, resultando em um recall muito baixo.\n",
    "\n",
    "Podemos colocar todas essas métricas em perspectiva usando um único comando:"
   ]
  },
  {
   "cell_type": "code",
   "execution_count": 129,
   "metadata": {},
   "outputs": [],
   "source": [
    "from sklearn.metrics import accuracy_score, precision_score, recall_score, classification_report"
   ]
  },
  {
   "cell_type": "code",
   "execution_count": 130,
   "metadata": {},
   "outputs": [
    {
     "data": {
      "text/plain": [
       "0.8031876606683804"
      ]
     },
     "execution_count": 130,
     "metadata": {},
     "output_type": "execute_result"
    }
   ],
   "source": [
    "accuracy_score(y_credit_test, predict_log)"
   ]
  },
  {
   "cell_type": "code",
   "execution_count": 131,
   "metadata": {},
   "outputs": [
    {
     "data": {
      "text/plain": [
       "0.7208480565371025"
      ]
     },
     "execution_count": 131,
     "metadata": {},
     "output_type": "execute_result"
    }
   ],
   "source": [
    "precision_score(y_credit_test, predict_log)"
   ]
  },
  {
   "cell_type": "code",
   "execution_count": 132,
   "metadata": {},
   "outputs": [
    {
     "data": {
      "text/plain": [
       "0.18853974121996303"
      ]
     },
     "execution_count": 132,
     "metadata": {},
     "output_type": "execute_result"
    }
   ],
   "source": [
    "recall_score(y_credit_test, predict_log)"
   ]
  },
  {
   "cell_type": "code",
   "execution_count": 133,
   "metadata": {},
   "outputs": [
    {
     "name": "stdout",
     "output_type": "stream",
     "text": [
      "              precision    recall  f1-score   support\n",
      "\n",
      "           0       0.81      0.98      0.89      7561\n",
      "           1       0.72      0.19      0.30      2164\n",
      "\n",
      "    accuracy                           0.80      9725\n",
      "   macro avg       0.76      0.58      0.59      9725\n",
      "weighted avg       0.79      0.80      0.75      9725\n",
      "\n"
     ]
    }
   ],
   "source": [
    "print(classification_report(y_credit_test, predict_log))"
   ]
  },
  {
   "cell_type": "markdown",
   "metadata": {},
   "source": [
    "Outra métrica bastante importante na avaliação de classificadores é a chamada Curva ROC (Receiving Operating Characteristic), que basicamente é um plot da taxa de positivos verdadeiros contra a taxa de falso positivos."
   ]
  },
  {
   "cell_type": "code",
   "execution_count": 117,
   "metadata": {},
   "outputs": [
    {
     "name": "stdout",
     "output_type": "stream",
     "text": [
      "No Skill: ROC AUC=0.500\n",
      "Logistic: ROC AUC=0.755\n"
     ]
    },
    {
     "data": {
      "image/png": "[encoded data removed]",
      "text/plain": [
       "<Figure size 432x288 with 1 Axes>"
      ]
     },
     "metadata": {
      "needs_background": "light"
     },
     "output_type": "display_data"
    }
   ],
   "source": [
    "from sklearn.metrics import roc_curve\n",
    "from sklearn.metrics import roc_auc_score\n",
    "# generate a no skill prediction (majority class)\n",
    "ns_probs = [0 for _ in range(len(y_credit_test))]\n",
    "# predict probabilities\n",
    "lr_probs = reg_log.predict_proba(X_credit_test)\n",
    "# keep probabilities for the positive outcome only\n",
    "lr_probs = lr_probs[:, 1]\n",
    "# calculate scores\n",
    "ns_auc = roc_auc_score(y_credit_test, ns_probs)\n",
    "lr_auc = roc_auc_score(y_credit_test, lr_probs)\n",
    "# summarize scores\n",
    "print('No Skill: ROC AUC=%.3f' % (ns_auc))\n",
    "print('Logistic: ROC AUC=%.3f' % (lr_auc))\n",
    "# calculate roc curves\n",
    "ns_fpr, ns_tpr, _ = roc_curve(y_credit_test, ns_probs)\n",
    "lr_fpr, lr_tpr, _ = roc_curve(y_credit_test, lr_probs)\n",
    "# plot the roc curve for the model\n",
    "plt.plot(ns_fpr, ns_tpr, linestyle='--', label='No Skill')\n",
    "plt.plot(lr_fpr, lr_tpr, marker='.', label='Logistic')\n",
    "# axis labels\n",
    "plt.xlabel('False Positive Rate')\n",
    "plt.ylabel('True Positive Rate')\n",
    "# show the legend\n",
    "plt.legend()\n",
    "# show the plot\n",
    "plt.show()"
   ]
  },
  {
   "cell_type": "markdown",
   "metadata": {},
   "source": [
    "Agora, uma vez que o modelo foi aplicado ao conjunto de teste, devemos julgar se a performance do modelo atende aos nossos requisitos operacionais. Se a resposta final for não, temos algumas possibilidades:\n",
    "\n",
    "1. Adquirir mais dados;\n",
    "2. Pre-processar os dados de forma a torná-los melhor adequados ao nosso modelo.\n",
    "3. Realizar ajustes finos no nosso modelo;\n",
    "4. Testar outro modelo."
   ]
  },
  {
   "cell_type": "markdown",
   "metadata": {},
   "source": [
    "A primeira possibilidade quase nunca é possível, seja porque simplesmente não temos mais dados disponívels ou seja porque os dados que temos disponível não são utilizáveis. "
   ]
  },
  {
   "cell_type": "markdown",
   "metadata": {},
   "source": [
    "Pre-processar os dados é algo bastante trabalhoso, contudo muitas vezes o esforço se paga. É o caso, por exemplo, de tomar o log de uma variável que tem um comporatemento mais próximo de uma potência do que de uma reta, ou de normalizar todas as variáveis de um dataset, para impedir que variáveis com escalas discrepantes acabe dominando o modelo e criando uma falsa hierqrquia de dados."
   ]
  },
  {
   "cell_type": "markdown",
   "metadata": {},
   "source": [
    "Realizar ajustes finos no modelo é uma tarefa quase obrigatória em machine learning. Seja para evitar o overfitting/underfitting, seja para realizar a escolha adequada de modelo para tratar o problema em questão. Contudo, essa tarefa pode ser computacionalmente muito complexa e deve ser realizada com extrema cautela, pois pode facilmente nos levar a conclusões erradas ou acabar se tornando uma tarefa intratável dado o timebox ou recursos computacionais disponíveis."
   ]
  },
  {
   "cell_type": "markdown",
   "metadata": {},
   "source": [
    "Com raras excessões, e geralmente aqui estamos nos referindo a modelos computacionalmente muito robustos e complexos, testar outro modelo é uma necessidade. Salvo os casos de modelo já bastante complexos e feitos com base nas questões computacionais e matemáticas que são pontos de dor dos modelos básicos, nem sempre um mesmo modelo vai responder bem em todos os datsets. Seja por questões referentes ao modelo, seja por conta dos dados ou ainda por causa da estratégia de otimização escolhida para minimizar a função custo. Logo, testar um repertório variado de modelo pode tanto enriquecer nosso entendimento sobre os dados quanto nos ajudar a buscar a melhor solução para determinado problema."
   ]
  },
  {
   "cell_type": "code",
   "execution_count": null,
   "metadata": {},
   "outputs": [],
   "source": []
  }
 ],
 "metadata": {
  "kernelspec": {
   "display_name": "Python 3",
   "language": "python",
   "name": "python3"
  },
  "language_info": {
   "codemirror_mode": {
    "name": "ipython",
    "version": 3
   },
   "file_extension": ".py",
   "mimetype": "text/x-python",
   "name": "python",
   "nbconvert_exporter": "python",
   "pygments_lexer": "ipython3",
   "version": "3.7.6"
  }
 },
 "nbformat": 4,
 "nbformat_minor": 4
}
